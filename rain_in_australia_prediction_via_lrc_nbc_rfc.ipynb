{
 "cells": [
  {
   "cell_type": "markdown",
   "id": "i7aX2A_nPLDS",
   "metadata": {
    "id": "i7aX2A_nPLDS"
   },
   "source": [
    "DMBI PROJECT - **RAIN** **IN** **AUSTRALIA** **PREDICTION** **USING** **LRC**, **NBC** **AND** **RFC** \n",
    "\n",
    "TEAM MEMBERS - \n",
    "\n",
    "**JINAL** **VYAS** (**191310132019**)\n",
    "\n",
    "**KRUPA** **BHAVSAR** (**191310132029**)"
   ]
  },
  {
   "cell_type": "code",
   "execution_count": 2,
   "id": "2584f5f4",
   "metadata": {
    "_cell_guid": "b1076dfc-b9ad-4769-8c92-a6c4dae69d19",
    "_uuid": "8f2839f25d086af736a60e9eeb907d3b93b6e0e5",
    "execution": {
     "iopub.execute_input": "2022-01-21T22:23:13.905940Z",
     "iopub.status.busy": "2022-01-21T22:23:13.905070Z",
     "iopub.status.idle": "2022-01-21T22:23:13.916047Z",
     "shell.execute_reply": "2022-01-21T22:23:13.916590Z",
     "shell.execute_reply.started": "2022-01-21T20:14:27.602878Z"
    },
    "id": "2584f5f4",
    "papermill": {
     "duration": 0.068365,
     "end_time": "2022-01-21T22:23:13.916891",
     "exception": false,
     "start_time": "2022-01-21T22:23:13.848526",
     "status": "completed"
    },
    "tags": []
   },
   "outputs": [],
   "source": [
    "import numpy as np # linear algebra\n",
    "import pandas as pd # data processing, CSV file I/O (e.g. pd.read_csv)"
   ]
  },
  {
   "cell_type": "markdown",
   "id": "28e98ea7",
   "metadata": {
    "id": "28e98ea7",
    "papermill": {
     "duration": 0.041213,
     "end_time": "2022-01-21T22:23:13.998734",
     "exception": false,
     "start_time": "2022-01-21T22:23:13.957521",
     "status": "completed"
    },
    "tags": []
   },
   "source": [
    "**LOADING DATA**"
   ]
  },
  {
   "cell_type": "code",
   "execution_count": 6,
   "id": "5882a224",
   "metadata": {
    "colab": {
     "base_uri": "https://localhost:8080/",
     "height": 382
    },
    "execution": {
     "iopub.execute_input": "2022-01-21T22:23:14.085766Z",
     "iopub.status.busy": "2022-01-21T22:23:14.084944Z",
     "iopub.status.idle": "2022-01-21T22:23:14.762026Z",
     "shell.execute_reply": "2022-01-21T22:23:14.762580Z",
     "shell.execute_reply.started": "2022-01-21T22:16:49.063984Z"
    },
    "id": "5882a224",
    "outputId": "48a7ab9c-b93a-4162-f166-3c4f5f6a041a",
    "papermill": {
     "duration": 0.723854,
     "end_time": "2022-01-21T22:23:14.762756",
     "exception": false,
     "start_time": "2022-01-21T22:23:14.038902",
     "status": "completed"
    },
    "tags": []
   },
   "outputs": [
    {
     "data": {
      "text/html": [
       "\n",
       "  <div id=\"df-c6db37da-b433-495e-a2a4-49ea76aa4912\">\n",
       "    <div class=\"colab-df-container\">\n",
       "      <div>\n",
       "<style scoped>\n",
       "    .dataframe tbody tr th:only-of-type {\n",
       "        vertical-align: middle;\n",
       "    }\n",
       "\n",
       "    .dataframe tbody tr th {\n",
       "        vertical-align: top;\n",
       "    }\n",
       "\n",
       "    .dataframe thead th {\n",
       "        text-align: right;\n",
       "    }\n",
       "</style>\n",
       "<table border=\"1\" class=\"dataframe\">\n",
       "  <thead>\n",
       "    <tr style=\"text-align: right;\">\n",
       "      <th></th>\n",
       "      <th>Date</th>\n",
       "      <th>Location</th>\n",
       "      <th>MinTemp</th>\n",
       "      <th>MaxTemp</th>\n",
       "      <th>Rainfall</th>\n",
       "      <th>Evaporation</th>\n",
       "      <th>Sunshine</th>\n",
       "      <th>WindGustDir</th>\n",
       "      <th>WindGustSpeed</th>\n",
       "      <th>WindDir9am</th>\n",
       "      <th>...</th>\n",
       "      <th>Humidity9am</th>\n",
       "      <th>Humidity3pm</th>\n",
       "      <th>Pressure9am</th>\n",
       "      <th>Pressure3pm</th>\n",
       "      <th>Cloud9am</th>\n",
       "      <th>Cloud3pm</th>\n",
       "      <th>Temp9am</th>\n",
       "      <th>Temp3pm</th>\n",
       "      <th>RainToday</th>\n",
       "      <th>RainTomorrow</th>\n",
       "    </tr>\n",
       "  </thead>\n",
       "  <tbody>\n",
       "    <tr>\n",
       "      <th>0</th>\n",
       "      <td>2008-12-01</td>\n",
       "      <td>Albury</td>\n",
       "      <td>13.4</td>\n",
       "      <td>22.9</td>\n",
       "      <td>0.6</td>\n",
       "      <td>NaN</td>\n",
       "      <td>NaN</td>\n",
       "      <td>W</td>\n",
       "      <td>44.0</td>\n",
       "      <td>W</td>\n",
       "      <td>...</td>\n",
       "      <td>71.0</td>\n",
       "      <td>22.0</td>\n",
       "      <td>1007.7</td>\n",
       "      <td>1007.1</td>\n",
       "      <td>8.0</td>\n",
       "      <td>NaN</td>\n",
       "      <td>16.9</td>\n",
       "      <td>21.8</td>\n",
       "      <td>No</td>\n",
       "      <td>No</td>\n",
       "    </tr>\n",
       "    <tr>\n",
       "      <th>1</th>\n",
       "      <td>2008-12-02</td>\n",
       "      <td>Albury</td>\n",
       "      <td>7.4</td>\n",
       "      <td>25.1</td>\n",
       "      <td>0.0</td>\n",
       "      <td>NaN</td>\n",
       "      <td>NaN</td>\n",
       "      <td>WNW</td>\n",
       "      <td>44.0</td>\n",
       "      <td>NNW</td>\n",
       "      <td>...</td>\n",
       "      <td>44.0</td>\n",
       "      <td>25.0</td>\n",
       "      <td>1010.6</td>\n",
       "      <td>1007.8</td>\n",
       "      <td>NaN</td>\n",
       "      <td>NaN</td>\n",
       "      <td>17.2</td>\n",
       "      <td>24.3</td>\n",
       "      <td>No</td>\n",
       "      <td>No</td>\n",
       "    </tr>\n",
       "    <tr>\n",
       "      <th>2</th>\n",
       "      <td>2008-12-03</td>\n",
       "      <td>Albury</td>\n",
       "      <td>12.9</td>\n",
       "      <td>25.7</td>\n",
       "      <td>0.0</td>\n",
       "      <td>NaN</td>\n",
       "      <td>NaN</td>\n",
       "      <td>WSW</td>\n",
       "      <td>46.0</td>\n",
       "      <td>W</td>\n",
       "      <td>...</td>\n",
       "      <td>38.0</td>\n",
       "      <td>30.0</td>\n",
       "      <td>1007.6</td>\n",
       "      <td>1008.7</td>\n",
       "      <td>NaN</td>\n",
       "      <td>2.0</td>\n",
       "      <td>21.0</td>\n",
       "      <td>23.2</td>\n",
       "      <td>No</td>\n",
       "      <td>No</td>\n",
       "    </tr>\n",
       "    <tr>\n",
       "      <th>3</th>\n",
       "      <td>2008-12-04</td>\n",
       "      <td>Albury</td>\n",
       "      <td>9.2</td>\n",
       "      <td>28.0</td>\n",
       "      <td>0.0</td>\n",
       "      <td>NaN</td>\n",
       "      <td>NaN</td>\n",
       "      <td>NE</td>\n",
       "      <td>24.0</td>\n",
       "      <td>SE</td>\n",
       "      <td>...</td>\n",
       "      <td>45.0</td>\n",
       "      <td>16.0</td>\n",
       "      <td>1017.6</td>\n",
       "      <td>1012.8</td>\n",
       "      <td>NaN</td>\n",
       "      <td>NaN</td>\n",
       "      <td>18.1</td>\n",
       "      <td>26.5</td>\n",
       "      <td>No</td>\n",
       "      <td>No</td>\n",
       "    </tr>\n",
       "    <tr>\n",
       "      <th>4</th>\n",
       "      <td>2008-12-05</td>\n",
       "      <td>Albury</td>\n",
       "      <td>17.5</td>\n",
       "      <td>32.3</td>\n",
       "      <td>1.0</td>\n",
       "      <td>NaN</td>\n",
       "      <td>NaN</td>\n",
       "      <td>W</td>\n",
       "      <td>41.0</td>\n",
       "      <td>ENE</td>\n",
       "      <td>...</td>\n",
       "      <td>82.0</td>\n",
       "      <td>33.0</td>\n",
       "      <td>1010.8</td>\n",
       "      <td>1006.0</td>\n",
       "      <td>7.0</td>\n",
       "      <td>8.0</td>\n",
       "      <td>17.8</td>\n",
       "      <td>29.7</td>\n",
       "      <td>No</td>\n",
       "      <td>No</td>\n",
       "    </tr>\n",
       "  </tbody>\n",
       "</table>\n",
       "<p>5 rows × 23 columns</p>\n",
       "</div>\n",
       "      <button class=\"colab-df-convert\" onclick=\"convertToInteractive('df-c6db37da-b433-495e-a2a4-49ea76aa4912')\"\n",
       "              title=\"Convert this dataframe to an interactive table.\"\n",
       "              style=\"display:none;\">\n",
       "        \n",
       "  <svg xmlns=\"http://www.w3.org/2000/svg\" height=\"24px\"viewBox=\"0 0 24 24\"\n",
       "       width=\"24px\">\n",
       "    <path d=\"M0 0h24v24H0V0z\" fill=\"none\"/>\n",
       "    <path d=\"M18.56 5.44l.94 2.06.94-2.06 2.06-.94-2.06-.94-.94-2.06-.94 2.06-2.06.94zm-11 1L8.5 8.5l.94-2.06 2.06-.94-2.06-.94L8.5 2.5l-.94 2.06-2.06.94zm10 10l.94 2.06.94-2.06 2.06-.94-2.06-.94-.94-2.06-.94 2.06-2.06.94z\"/><path d=\"M17.41 7.96l-1.37-1.37c-.4-.4-.92-.59-1.43-.59-.52 0-1.04.2-1.43.59L10.3 9.45l-7.72 7.72c-.78.78-.78 2.05 0 2.83L4 21.41c.39.39.9.59 1.41.59.51 0 1.02-.2 1.41-.59l7.78-7.78 2.81-2.81c.8-.78.8-2.07 0-2.86zM5.41 20L4 18.59l7.72-7.72 1.47 1.35L5.41 20z\"/>\n",
       "  </svg>\n",
       "      </button>\n",
       "      \n",
       "  <style>\n",
       "    .colab-df-container {\n",
       "      display:flex;\n",
       "      flex-wrap:wrap;\n",
       "      gap: 12px;\n",
       "    }\n",
       "\n",
       "    .colab-df-convert {\n",
       "      background-color: #E8F0FE;\n",
       "      border: none;\n",
       "      border-radius: 50%;\n",
       "      cursor: pointer;\n",
       "      display: none;\n",
       "      fill: #1967D2;\n",
       "      height: 32px;\n",
       "      padding: 0 0 0 0;\n",
       "      width: 32px;\n",
       "    }\n",
       "\n",
       "    .colab-df-convert:hover {\n",
       "      background-color: #E2EBFA;\n",
       "      box-shadow: 0px 1px 2px rgba(60, 64, 67, 0.3), 0px 1px 3px 1px rgba(60, 64, 67, 0.15);\n",
       "      fill: #174EA6;\n",
       "    }\n",
       "\n",
       "    [theme=dark] .colab-df-convert {\n",
       "      background-color: #3B4455;\n",
       "      fill: #D2E3FC;\n",
       "    }\n",
       "\n",
       "    [theme=dark] .colab-df-convert:hover {\n",
       "      background-color: #434B5C;\n",
       "      box-shadow: 0px 1px 3px 1px rgba(0, 0, 0, 0.15);\n",
       "      filter: drop-shadow(0px 1px 2px rgba(0, 0, 0, 0.3));\n",
       "      fill: #FFFFFF;\n",
       "    }\n",
       "  </style>\n",
       "\n",
       "      <script>\n",
       "        const buttonEl =\n",
       "          document.querySelector('#df-c6db37da-b433-495e-a2a4-49ea76aa4912 button.colab-df-convert');\n",
       "        buttonEl.style.display =\n",
       "          google.colab.kernel.accessAllowed ? 'block' : 'none';\n",
       "\n",
       "        async function convertToInteractive(key) {\n",
       "          const element = document.querySelector('#df-c6db37da-b433-495e-a2a4-49ea76aa4912');\n",
       "          const dataTable =\n",
       "            await google.colab.kernel.invokeFunction('convertToInteractive',\n",
       "                                                     [key], {});\n",
       "          if (!dataTable) return;\n",
       "\n",
       "          const docLinkHtml = 'Like what you see? Visit the ' +\n",
       "            '<a target=\"_blank\" href=https://colab.research.google.com/notebooks/data_table.ipynb>data table notebook</a>'\n",
       "            + ' to learn more about interactive tables.';\n",
       "          element.innerHTML = '';\n",
       "          dataTable['output_type'] = 'display_data';\n",
       "          await google.colab.output.renderOutput(dataTable, element);\n",
       "          const docLink = document.createElement('div');\n",
       "          docLink.innerHTML = docLinkHtml;\n",
       "          element.appendChild(docLink);\n",
       "        }\n",
       "      </script>\n",
       "    </div>\n",
       "  </div>\n",
       "  "
      ],
      "text/plain": [
       "         Date Location  MinTemp  MaxTemp  Rainfall  Evaporation  Sunshine  \\\n",
       "0  2008-12-01   Albury     13.4     22.9       0.6          NaN       NaN   \n",
       "1  2008-12-02   Albury      7.4     25.1       0.0          NaN       NaN   \n",
       "2  2008-12-03   Albury     12.9     25.7       0.0          NaN       NaN   \n",
       "3  2008-12-04   Albury      9.2     28.0       0.0          NaN       NaN   \n",
       "4  2008-12-05   Albury     17.5     32.3       1.0          NaN       NaN   \n",
       "\n",
       "  WindGustDir  WindGustSpeed WindDir9am  ... Humidity9am  Humidity3pm  \\\n",
       "0           W           44.0          W  ...        71.0         22.0   \n",
       "1         WNW           44.0        NNW  ...        44.0         25.0   \n",
       "2         WSW           46.0          W  ...        38.0         30.0   \n",
       "3          NE           24.0         SE  ...        45.0         16.0   \n",
       "4           W           41.0        ENE  ...        82.0         33.0   \n",
       "\n",
       "   Pressure9am  Pressure3pm  Cloud9am  Cloud3pm  Temp9am  Temp3pm  RainToday  \\\n",
       "0       1007.7       1007.1       8.0       NaN     16.9     21.8         No   \n",
       "1       1010.6       1007.8       NaN       NaN     17.2     24.3         No   \n",
       "2       1007.6       1008.7       NaN       2.0     21.0     23.2         No   \n",
       "3       1017.6       1012.8       NaN       NaN     18.1     26.5         No   \n",
       "4       1010.8       1006.0       7.0       8.0     17.8     29.7         No   \n",
       "\n",
       "   RainTomorrow  \n",
       "0            No  \n",
       "1            No  \n",
       "2            No  \n",
       "3            No  \n",
       "4            No  \n",
       "\n",
       "[5 rows x 23 columns]"
      ]
     },
     "execution_count": 6,
     "metadata": {},
     "output_type": "execute_result"
    }
   ],
   "source": [
    "data = 'weatherAUS.csv'\n",
    "\n",
    "df = pd.read_csv(data)\n",
    "df.head()"
   ]
  },
  {
   "cell_type": "markdown",
   "id": "003baa28",
   "metadata": {
    "id": "003baa28",
    "papermill": {
     "duration": 0.040448,
     "end_time": "2022-01-21T22:23:14.845361",
     "exception": false,
     "start_time": "2022-01-21T22:23:14.804913",
     "status": "completed"
    },
    "tags": []
   },
   "source": [
    "**Exploratory data analysis**"
   ]
  },
  {
   "cell_type": "code",
   "execution_count": 7,
   "id": "d877867f",
   "metadata": {
    "colab": {
     "base_uri": "https://localhost:8080/"
    },
    "execution": {
     "iopub.execute_input": "2022-01-21T22:23:14.932963Z",
     "iopub.status.busy": "2022-01-21T22:23:14.932107Z",
     "iopub.status.idle": "2022-01-21T22:23:14.935620Z",
     "shell.execute_reply": "2022-01-21T22:23:14.935079Z",
     "shell.execute_reply.started": "2022-01-21T18:45:40.728798Z"
    },
    "id": "d877867f",
    "outputId": "d6ff025e-70a6-4bf6-ef94-5ad311211f53",
    "papermill": {
     "duration": 0.048975,
     "end_time": "2022-01-21T22:23:14.935774",
     "exception": false,
     "start_time": "2022-01-21T22:23:14.886799",
     "status": "completed"
    },
    "tags": []
   },
   "outputs": [
    {
     "data": {
      "text/plain": [
       "(145460, 23)"
      ]
     },
     "execution_count": 7,
     "metadata": {},
     "output_type": "execute_result"
    }
   ],
   "source": [
    "# checking shape of data\n",
    "df.shape"
   ]
  },
  {
   "cell_type": "code",
   "execution_count": 8,
   "id": "4060bcca",
   "metadata": {
    "colab": {
     "base_uri": "https://localhost:8080/"
    },
    "execution": {
     "iopub.execute_input": "2022-01-21T22:23:15.024742Z",
     "iopub.status.busy": "2022-01-21T22:23:15.023969Z",
     "iopub.status.idle": "2022-01-21T22:23:15.162197Z",
     "shell.execute_reply": "2022-01-21T22:23:15.161649Z",
     "shell.execute_reply.started": "2022-01-21T18:47:10.768862Z"
    },
    "id": "4060bcca",
    "outputId": "5eb75709-acf0-4c42-f64f-0dbffbfea5a0",
    "papermill": {
     "duration": 0.185527,
     "end_time": "2022-01-21T22:23:15.162348",
     "exception": false,
     "start_time": "2022-01-21T22:23:14.976821",
     "status": "completed"
    },
    "tags": []
   },
   "outputs": [
    {
     "name": "stdout",
     "output_type": "stream",
     "text": [
      "<class 'pandas.core.frame.DataFrame'>\n",
      "RangeIndex: 145460 entries, 0 to 145459\n",
      "Data columns (total 23 columns):\n",
      " #   Column         Non-Null Count   Dtype  \n",
      "---  ------         --------------   -----  \n",
      " 0   Date           145460 non-null  object \n",
      " 1   Location       145460 non-null  object \n",
      " 2   MinTemp        143975 non-null  float64\n",
      " 3   MaxTemp        144199 non-null  float64\n",
      " 4   Rainfall       142199 non-null  float64\n",
      " 5   Evaporation    82670 non-null   float64\n",
      " 6   Sunshine       75625 non-null   float64\n",
      " 7   WindGustDir    135134 non-null  object \n",
      " 8   WindGustSpeed  135197 non-null  float64\n",
      " 9   WindDir9am     134894 non-null  object \n",
      " 10  WindDir3pm     141232 non-null  object \n",
      " 11  WindSpeed9am   143693 non-null  float64\n",
      " 12  WindSpeed3pm   142398 non-null  float64\n",
      " 13  Humidity9am    142806 non-null  float64\n",
      " 14  Humidity3pm    140953 non-null  float64\n",
      " 15  Pressure9am    130395 non-null  float64\n",
      " 16  Pressure3pm    130432 non-null  float64\n",
      " 17  Cloud9am       89572 non-null   float64\n",
      " 18  Cloud3pm       86102 non-null   float64\n",
      " 19  Temp9am        143693 non-null  float64\n",
      " 20  Temp3pm        141851 non-null  float64\n",
      " 21  RainToday      142199 non-null  object \n",
      " 22  RainTomorrow   142193 non-null  object \n",
      "dtypes: float64(16), object(7)\n",
      "memory usage: 25.5+ MB\n"
     ]
    }
   ],
   "source": [
    "# checking data info\n",
    "df.info()"
   ]
  },
  {
   "cell_type": "code",
   "execution_count": 9,
   "id": "245f49f9",
   "metadata": {
    "colab": {
     "base_uri": "https://localhost:8080/"
    },
    "execution": {
     "iopub.execute_input": "2022-01-21T22:23:15.248603Z",
     "iopub.status.busy": "2022-01-21T22:23:15.247865Z",
     "iopub.status.idle": "2022-01-21T22:23:15.276023Z",
     "shell.execute_reply": "2022-01-21T22:23:15.276646Z",
     "shell.execute_reply.started": "2022-01-21T18:54:08.485687Z"
    },
    "id": "245f49f9",
    "outputId": "c9168c2d-877f-4c00-afcd-81d06216f72e",
    "papermill": {
     "duration": 0.073103,
     "end_time": "2022-01-21T22:23:15.276825",
     "exception": false,
     "start_time": "2022-01-21T22:23:15.203722",
     "status": "completed"
    },
    "tags": []
   },
   "outputs": [
    {
     "data": {
      "text/plain": [
       "No     110316\n",
       "Yes     31877\n",
       "Name: RainTomorrow, dtype: int64"
      ]
     },
     "execution_count": 9,
     "metadata": {},
     "output_type": "execute_result"
    }
   ],
   "source": [
    "# checking target column values counts\n",
    "df['RainTomorrow'].value_counts()"
   ]
  },
  {
   "cell_type": "code",
   "execution_count": 10,
   "id": "18a375e9",
   "metadata": {
    "colab": {
     "base_uri": "https://localhost:8080/",
     "height": 312
    },
    "execution": {
     "iopub.execute_input": "2022-01-21T22:23:15.363451Z",
     "iopub.status.busy": "2022-01-21T22:23:15.362754Z",
     "iopub.status.idle": "2022-01-21T22:23:16.850792Z",
     "shell.execute_reply": "2022-01-21T22:23:16.850224Z",
     "shell.execute_reply.started": "2022-01-21T22:14:41.747108Z"
    },
    "id": "18a375e9",
    "outputId": "ba4f6723-d9d1-4101-8948-16a66e4dc4e7",
    "papermill": {
     "duration": 1.532911,
     "end_time": "2022-01-21T22:23:16.850939",
     "exception": false,
     "start_time": "2022-01-21T22:23:15.318028",
     "status": "completed"
    },
    "tags": []
   },
   "outputs": [
    {
     "data": {
      "text/plain": [
       "Text(0.5, 1.0, 'Target Count')"
      ]
     },
     "execution_count": 10,
     "metadata": {},
     "output_type": "execute_result"
    },
    {
     "data": {
      "image/png": "[encoded data removed]",
      "text/plain": [
       "<Figure size 432x288 with 1 Axes>"
      ]
     },
     "metadata": {
      "needs_background": "light"
     },
     "output_type": "display_data"
    }
   ],
   "source": [
    "# Plotting count of target column\n",
    "import warnings\n",
    "warnings.filterwarnings('ignore')\n",
    "import seaborn as sns\n",
    "import matplotlib.pyplot as plt\n",
    "sns.countplot('RainTomorrow',data=df)\n",
    "plt.title(\"Target Count\")"
   ]
  },
  {
   "cell_type": "code",
   "execution_count": 11,
   "id": "bf11c252",
   "metadata": {
    "colab": {
     "base_uri": "https://localhost:8080/"
    },
    "execution": {
     "iopub.execute_input": "2022-01-21T22:23:16.940862Z",
     "iopub.status.busy": "2022-01-21T22:23:16.940141Z",
     "iopub.status.idle": "2022-01-21T22:23:17.062674Z",
     "shell.execute_reply": "2022-01-21T22:23:17.061967Z",
     "shell.execute_reply.started": "2022-01-21T18:47:38.863546Z"
    },
    "id": "bf11c252",
    "outputId": "1b647064-7996-4b68-e385-d6ba8a914cb5",
    "papermill": {
     "duration": 0.16857,
     "end_time": "2022-01-21T22:23:17.062818",
     "exception": false,
     "start_time": "2022-01-21T22:23:16.894248",
     "status": "completed"
    },
    "tags": []
   },
   "outputs": [
    {
     "data": {
      "text/plain": [
       "Date                 0\n",
       "Location             0\n",
       "MinTemp           1485\n",
       "MaxTemp           1261\n",
       "Rainfall          3261\n",
       "Evaporation      62790\n",
       "Sunshine         69835\n",
       "WindGustDir      10326\n",
       "WindGustSpeed    10263\n",
       "WindDir9am       10566\n",
       "WindDir3pm        4228\n",
       "WindSpeed9am      1767\n",
       "WindSpeed3pm      3062\n",
       "Humidity9am       2654\n",
       "Humidity3pm       4507\n",
       "Pressure9am      15065\n",
       "Pressure3pm      15028\n",
       "Cloud9am         55888\n",
       "Cloud3pm         59358\n",
       "Temp9am           1767\n",
       "Temp3pm           3609\n",
       "RainToday         3261\n",
       "RainTomorrow      3267\n",
       "dtype: int64"
      ]
     },
     "execution_count": 11,
     "metadata": {},
     "output_type": "execute_result"
    }
   ],
   "source": [
    "# checking null values\n",
    "df.isna().sum()"
   ]
  },
  {
   "cell_type": "markdown",
   "id": "bce42153",
   "metadata": {
    "id": "bce42153",
    "papermill": {
     "duration": 0.042422,
     "end_time": "2022-01-21T22:23:17.148232",
     "exception": false,
     "start_time": "2022-01-21T22:23:17.105810",
     "status": "completed"
    },
    "tags": []
   },
   "source": [
    "As we can see from the above output that data has lot of NAN values and we need to treat them for our model.First we will divide the data in category and integer datatypes"
   ]
  },
  {
   "cell_type": "code",
   "execution_count": 12,
   "id": "8e886643",
   "metadata": {
    "colab": {
     "base_uri": "https://localhost:8080/"
    },
    "execution": {
     "iopub.execute_input": "2022-01-21T22:23:17.256662Z",
     "iopub.status.busy": "2022-01-21T22:23:17.255936Z",
     "iopub.status.idle": "2022-01-21T22:23:17.311087Z",
     "shell.execute_reply": "2022-01-21T22:23:17.310540Z",
     "shell.execute_reply.started": "2022-01-21T22:16:55.909387Z"
    },
    "id": "8e886643",
    "outputId": "c2a1dea7-cafc-487e-bb2b-76ee3a827b31",
    "papermill": {
     "duration": 0.120336,
     "end_time": "2022-01-21T22:23:17.311239",
     "exception": false,
     "start_time": "2022-01-21T22:23:17.190903",
     "status": "completed"
    },
    "tags": []
   },
   "outputs": [
    {
     "name": "stdout",
     "output_type": "stream",
     "text": [
      "(145460, 23)\n",
      "(142193, 23)\n"
     ]
    }
   ],
   "source": [
    "# dropping NA values from target column\n",
    "print(df.shape)\n",
    "df.dropna(subset=['RainTomorrow'],inplace = True)\n",
    "df = df.reset_index(drop=True)\n",
    "print(df.shape)"
   ]
  },
  {
   "cell_type": "code",
   "execution_count": 13,
   "id": "4e4ec4c4",
   "metadata": {
    "colab": {
     "base_uri": "https://localhost:8080/"
    },
    "execution": {
     "iopub.execute_input": "2022-01-21T22:23:17.407059Z",
     "iopub.status.busy": "2022-01-21T22:23:17.406299Z",
     "iopub.status.idle": "2022-01-21T22:23:17.409227Z",
     "shell.execute_reply": "2022-01-21T22:23:17.409766Z",
     "shell.execute_reply.started": "2022-01-21T22:16:58.870842Z"
    },
    "id": "4e4ec4c4",
    "outputId": "48db3c30-664a-4745-a942-77afc01ea3e2",
    "papermill": {
     "duration": 0.054635,
     "end_time": "2022-01-21T22:23:17.409939",
     "exception": false,
     "start_time": "2022-01-21T22:23:17.355304",
     "status": "completed"
    },
    "tags": []
   },
   "outputs": [
    {
     "name": "stdout",
     "output_type": "stream",
     "text": [
      "Categorical data types columns: ['Date', 'Location', 'WindGustDir', 'WindDir9am', 'WindDir3pm', 'RainToday', 'RainTomorrow']\n",
      "Integer data types columns: ['MinTemp', 'MaxTemp', 'Rainfall', 'Evaporation', 'Sunshine', 'WindGustSpeed', 'WindSpeed9am', 'WindSpeed3pm', 'Humidity9am', 'Humidity3pm', 'Pressure9am', 'Pressure3pm', 'Cloud9am', 'Cloud3pm', 'Temp9am', 'Temp3pm']\n"
     ]
    }
   ],
   "source": [
    "categorical = [ i for i in df.columns if df[i].dtype =='O']\n",
    "integer = [i for i in df.columns if df[i].dtype !='O']\n",
    "print('Categorical data types columns:',categorical)\n",
    "print('Integer data types columns:',integer)\n"
   ]
  },
  {
   "cell_type": "code",
   "execution_count": 14,
   "id": "f042e07a",
   "metadata": {
    "colab": {
     "base_uri": "https://localhost:8080/"
    },
    "execution": {
     "iopub.execute_input": "2022-01-21T22:23:17.509672Z",
     "iopub.status.busy": "2022-01-21T22:23:17.508937Z",
     "iopub.status.idle": "2022-01-21T22:23:17.521731Z",
     "shell.execute_reply": "2022-01-21T22:23:17.522269Z",
     "shell.execute_reply.started": "2022-01-21T22:14:52.921489Z"
    },
    "id": "f042e07a",
    "outputId": "daab1c93-ea29-4ac9-abba-182c4beff44f",
    "papermill": {
     "duration": 0.068373,
     "end_time": "2022-01-21T22:23:17.522492",
     "exception": false,
     "start_time": "2022-01-21T22:23:17.454119",
     "status": "completed"
    },
    "tags": []
   },
   "outputs": [
    {
     "data": {
      "text/plain": [
       "MinTemp            637\n",
       "MaxTemp            322\n",
       "Rainfall          1406\n",
       "Evaporation      60843\n",
       "Sunshine         67816\n",
       "WindGustSpeed     9270\n",
       "WindSpeed9am      1348\n",
       "WindSpeed3pm      2630\n",
       "Humidity9am       1774\n",
       "Humidity3pm       3610\n",
       "Pressure9am      14014\n",
       "Pressure3pm      13981\n",
       "Cloud9am         53657\n",
       "Cloud3pm         57094\n",
       "Temp9am            904\n",
       "Temp3pm           2726\n",
       "dtype: int64"
      ]
     },
     "execution_count": 14,
     "metadata": {},
     "output_type": "execute_result"
    }
   ],
   "source": [
    "# checking NAN values in data type integer\n",
    "df[integer].isna().sum()"
   ]
  },
  {
   "cell_type": "code",
   "execution_count": 15,
   "id": "456ab61d",
   "metadata": {
    "colab": {
     "base_uri": "https://localhost:8080/"
    },
    "execution": {
     "iopub.execute_input": "2022-01-21T22:23:17.613529Z",
     "iopub.status.busy": "2022-01-21T22:23:17.612858Z",
     "iopub.status.idle": "2022-01-21T22:23:17.736720Z",
     "shell.execute_reply": "2022-01-21T22:23:17.736030Z",
     "shell.execute_reply.started": "2022-01-21T22:14:56.242557Z"
    },
    "id": "456ab61d",
    "outputId": "e15f9716-b33a-4d22-fb76-b56860531db0",
    "papermill": {
     "duration": 0.169904,
     "end_time": "2022-01-21T22:23:17.736907",
     "exception": false,
     "start_time": "2022-01-21T22:23:17.567003",
     "status": "completed"
    },
    "tags": []
   },
   "outputs": [
    {
     "data": {
      "text/plain": [
       "Date                0\n",
       "Location            0\n",
       "WindGustDir      9330\n",
       "WindDir9am      10013\n",
       "WindDir3pm       3778\n",
       "RainToday        1406\n",
       "RainTomorrow        0\n",
       "dtype: int64"
      ]
     },
     "execution_count": 15,
     "metadata": {},
     "output_type": "execute_result"
    }
   ],
   "source": [
    "# checking NAN values in data type categorical\n",
    "df[categorical].isna().sum()"
   ]
  },
  {
   "cell_type": "code",
   "execution_count": 16,
   "id": "53fbf1e0",
   "metadata": {
    "colab": {
     "base_uri": "https://localhost:8080/",
     "height": 297
    },
    "execution": {
     "iopub.execute_input": "2022-01-21T22:23:17.876866Z",
     "iopub.status.busy": "2022-01-21T22:23:17.876176Z",
     "iopub.status.idle": "2022-01-21T22:23:17.970746Z",
     "shell.execute_reply": "2022-01-21T22:23:17.970186Z",
     "shell.execute_reply.started": "2022-01-21T22:17:03.033925Z"
    },
    "id": "53fbf1e0",
    "outputId": "2c31f6a2-8171-401e-8a69-f2cad8da2cd2",
    "papermill": {
     "duration": 0.18872,
     "end_time": "2022-01-21T22:23:17.970889",
     "exception": false,
     "start_time": "2022-01-21T22:23:17.782169",
     "status": "completed"
    },
    "tags": []
   },
   "outputs": [
    {
     "data": {
      "text/html": [
       "\n",
       "  <div id=\"df-dfaeeac9-a4d0-4b38-b344-ca20498d4366\">\n",
       "    <div class=\"colab-df-container\">\n",
       "      <div>\n",
       "<style scoped>\n",
       "    .dataframe tbody tr th:only-of-type {\n",
       "        vertical-align: middle;\n",
       "    }\n",
       "\n",
       "    .dataframe tbody tr th {\n",
       "        vertical-align: top;\n",
       "    }\n",
       "\n",
       "    .dataframe thead th {\n",
       "        text-align: right;\n",
       "    }\n",
       "</style>\n",
       "<table border=\"1\" class=\"dataframe\">\n",
       "  <thead>\n",
       "    <tr style=\"text-align: right;\">\n",
       "      <th></th>\n",
       "      <th>Location</th>\n",
       "      <th>MinTemp</th>\n",
       "      <th>MaxTemp</th>\n",
       "      <th>Rainfall</th>\n",
       "      <th>Evaporation</th>\n",
       "      <th>Sunshine</th>\n",
       "      <th>WindGustDir</th>\n",
       "      <th>WindGustSpeed</th>\n",
       "      <th>WindDir9am</th>\n",
       "      <th>WindDir3pm</th>\n",
       "      <th>...</th>\n",
       "      <th>Pressure3pm</th>\n",
       "      <th>Cloud9am</th>\n",
       "      <th>Cloud3pm</th>\n",
       "      <th>Temp9am</th>\n",
       "      <th>Temp3pm</th>\n",
       "      <th>RainToday</th>\n",
       "      <th>RainTomorrow</th>\n",
       "      <th>year</th>\n",
       "      <th>month</th>\n",
       "      <th>day</th>\n",
       "    </tr>\n",
       "  </thead>\n",
       "  <tbody>\n",
       "    <tr>\n",
       "      <th>0</th>\n",
       "      <td>Albury</td>\n",
       "      <td>13.4</td>\n",
       "      <td>22.9</td>\n",
       "      <td>0.6</td>\n",
       "      <td>NaN</td>\n",
       "      <td>NaN</td>\n",
       "      <td>W</td>\n",
       "      <td>44.0</td>\n",
       "      <td>W</td>\n",
       "      <td>WNW</td>\n",
       "      <td>...</td>\n",
       "      <td>1007.1</td>\n",
       "      <td>8.0</td>\n",
       "      <td>NaN</td>\n",
       "      <td>16.9</td>\n",
       "      <td>21.8</td>\n",
       "      <td>No</td>\n",
       "      <td>No</td>\n",
       "      <td>2008</td>\n",
       "      <td>12</td>\n",
       "      <td>1</td>\n",
       "    </tr>\n",
       "    <tr>\n",
       "      <th>1</th>\n",
       "      <td>Albury</td>\n",
       "      <td>7.4</td>\n",
       "      <td>25.1</td>\n",
       "      <td>0.0</td>\n",
       "      <td>NaN</td>\n",
       "      <td>NaN</td>\n",
       "      <td>WNW</td>\n",
       "      <td>44.0</td>\n",
       "      <td>NNW</td>\n",
       "      <td>WSW</td>\n",
       "      <td>...</td>\n",
       "      <td>1007.8</td>\n",
       "      <td>NaN</td>\n",
       "      <td>NaN</td>\n",
       "      <td>17.2</td>\n",
       "      <td>24.3</td>\n",
       "      <td>No</td>\n",
       "      <td>No</td>\n",
       "      <td>2008</td>\n",
       "      <td>12</td>\n",
       "      <td>2</td>\n",
       "    </tr>\n",
       "    <tr>\n",
       "      <th>2</th>\n",
       "      <td>Albury</td>\n",
       "      <td>12.9</td>\n",
       "      <td>25.7</td>\n",
       "      <td>0.0</td>\n",
       "      <td>NaN</td>\n",
       "      <td>NaN</td>\n",
       "      <td>WSW</td>\n",
       "      <td>46.0</td>\n",
       "      <td>W</td>\n",
       "      <td>WSW</td>\n",
       "      <td>...</td>\n",
       "      <td>1008.7</td>\n",
       "      <td>NaN</td>\n",
       "      <td>2.0</td>\n",
       "      <td>21.0</td>\n",
       "      <td>23.2</td>\n",
       "      <td>No</td>\n",
       "      <td>No</td>\n",
       "      <td>2008</td>\n",
       "      <td>12</td>\n",
       "      <td>3</td>\n",
       "    </tr>\n",
       "    <tr>\n",
       "      <th>3</th>\n",
       "      <td>Albury</td>\n",
       "      <td>9.2</td>\n",
       "      <td>28.0</td>\n",
       "      <td>0.0</td>\n",
       "      <td>NaN</td>\n",
       "      <td>NaN</td>\n",
       "      <td>NE</td>\n",
       "      <td>24.0</td>\n",
       "      <td>SE</td>\n",
       "      <td>E</td>\n",
       "      <td>...</td>\n",
       "      <td>1012.8</td>\n",
       "      <td>NaN</td>\n",
       "      <td>NaN</td>\n",
       "      <td>18.1</td>\n",
       "      <td>26.5</td>\n",
       "      <td>No</td>\n",
       "      <td>No</td>\n",
       "      <td>2008</td>\n",
       "      <td>12</td>\n",
       "      <td>4</td>\n",
       "    </tr>\n",
       "    <tr>\n",
       "      <th>4</th>\n",
       "      <td>Albury</td>\n",
       "      <td>17.5</td>\n",
       "      <td>32.3</td>\n",
       "      <td>1.0</td>\n",
       "      <td>NaN</td>\n",
       "      <td>NaN</td>\n",
       "      <td>W</td>\n",
       "      <td>41.0</td>\n",
       "      <td>ENE</td>\n",
       "      <td>NW</td>\n",
       "      <td>...</td>\n",
       "      <td>1006.0</td>\n",
       "      <td>7.0</td>\n",
       "      <td>8.0</td>\n",
       "      <td>17.8</td>\n",
       "      <td>29.7</td>\n",
       "      <td>No</td>\n",
       "      <td>No</td>\n",
       "      <td>2008</td>\n",
       "      <td>12</td>\n",
       "      <td>5</td>\n",
       "    </tr>\n",
       "  </tbody>\n",
       "</table>\n",
       "<p>5 rows × 25 columns</p>\n",
       "</div>\n",
       "      <button class=\"colab-df-convert\" onclick=\"convertToInteractive('df-dfaeeac9-a4d0-4b38-b344-ca20498d4366')\"\n",
       "              title=\"Convert this dataframe to an interactive table.\"\n",
       "              style=\"display:none;\">\n",
       "        \n",
       "  <svg xmlns=\"http://www.w3.org/2000/svg\" height=\"24px\"viewBox=\"0 0 24 24\"\n",
       "       width=\"24px\">\n",
       "    <path d=\"M0 0h24v24H0V0z\" fill=\"none\"/>\n",
       "    <path d=\"M18.56 5.44l.94 2.06.94-2.06 2.06-.94-2.06-.94-.94-2.06-.94 2.06-2.06.94zm-11 1L8.5 8.5l.94-2.06 2.06-.94-2.06-.94L8.5 2.5l-.94 2.06-2.06.94zm10 10l.94 2.06.94-2.06 2.06-.94-2.06-.94-.94-2.06-.94 2.06-2.06.94z\"/><path d=\"M17.41 7.96l-1.37-1.37c-.4-.4-.92-.59-1.43-.59-.52 0-1.04.2-1.43.59L10.3 9.45l-7.72 7.72c-.78.78-.78 2.05 0 2.83L4 21.41c.39.39.9.59 1.41.59.51 0 1.02-.2 1.41-.59l7.78-7.78 2.81-2.81c.8-.78.8-2.07 0-2.86zM5.41 20L4 18.59l7.72-7.72 1.47 1.35L5.41 20z\"/>\n",
       "  </svg>\n",
       "      </button>\n",
       "      \n",
       "  <style>\n",
       "    .colab-df-container {\n",
       "      display:flex;\n",
       "      flex-wrap:wrap;\n",
       "      gap: 12px;\n",
       "    }\n",
       "\n",
       "    .colab-df-convert {\n",
       "      background-color: #E8F0FE;\n",
       "      border: none;\n",
       "      border-radius: 50%;\n",
       "      cursor: pointer;\n",
       "      display: none;\n",
       "      fill: #1967D2;\n",
       "      height: 32px;\n",
       "      padding: 0 0 0 0;\n",
       "      width: 32px;\n",
       "    }\n",
       "\n",
       "    .colab-df-convert:hover {\n",
       "      background-color: #E2EBFA;\n",
       "      box-shadow: 0px 1px 2px rgba(60, 64, 67, 0.3), 0px 1px 3px 1px rgba(60, 64, 67, 0.15);\n",
       "      fill: #174EA6;\n",
       "    }\n",
       "\n",
       "    [theme=dark] .colab-df-convert {\n",
       "      background-color: #3B4455;\n",
       "      fill: #D2E3FC;\n",
       "    }\n",
       "\n",
       "    [theme=dark] .colab-df-convert:hover {\n",
       "      background-color: #434B5C;\n",
       "      box-shadow: 0px 1px 3px 1px rgba(0, 0, 0, 0.15);\n",
       "      filter: drop-shadow(0px 1px 2px rgba(0, 0, 0, 0.3));\n",
       "      fill: #FFFFFF;\n",
       "    }\n",
       "  </style>\n",
       "\n",
       "      <script>\n",
       "        const buttonEl =\n",
       "          document.querySelector('#df-dfaeeac9-a4d0-4b38-b344-ca20498d4366 button.colab-df-convert');\n",
       "        buttonEl.style.display =\n",
       "          google.colab.kernel.accessAllowed ? 'block' : 'none';\n",
       "\n",
       "        async function convertToInteractive(key) {\n",
       "          const element = document.querySelector('#df-dfaeeac9-a4d0-4b38-b344-ca20498d4366');\n",
       "          const dataTable =\n",
       "            await google.colab.kernel.invokeFunction('convertToInteractive',\n",
       "                                                     [key], {});\n",
       "          if (!dataTable) return;\n",
       "\n",
       "          const docLinkHtml = 'Like what you see? Visit the ' +\n",
       "            '<a target=\"_blank\" href=https://colab.research.google.com/notebooks/data_table.ipynb>data table notebook</a>'\n",
       "            + ' to learn more about interactive tables.';\n",
       "          element.innerHTML = '';\n",
       "          dataTable['output_type'] = 'display_data';\n",
       "          await google.colab.output.renderOutput(dataTable, element);\n",
       "          const docLink = document.createElement('div');\n",
       "          docLink.innerHTML = docLinkHtml;\n",
       "          element.appendChild(docLink);\n",
       "        }\n",
       "      </script>\n",
       "    </div>\n",
       "  </div>\n",
       "  "
      ],
      "text/plain": [
       "  Location  MinTemp  MaxTemp  Rainfall  Evaporation  Sunshine WindGustDir  \\\n",
       "0   Albury     13.4     22.9       0.6          NaN       NaN           W   \n",
       "1   Albury      7.4     25.1       0.0          NaN       NaN         WNW   \n",
       "2   Albury     12.9     25.7       0.0          NaN       NaN         WSW   \n",
       "3   Albury      9.2     28.0       0.0          NaN       NaN          NE   \n",
       "4   Albury     17.5     32.3       1.0          NaN       NaN           W   \n",
       "\n",
       "   WindGustSpeed WindDir9am WindDir3pm  ...  Pressure3pm  Cloud9am  Cloud3pm  \\\n",
       "0           44.0          W        WNW  ...       1007.1       8.0       NaN   \n",
       "1           44.0        NNW        WSW  ...       1007.8       NaN       NaN   \n",
       "2           46.0          W        WSW  ...       1008.7       NaN       2.0   \n",
       "3           24.0         SE          E  ...       1012.8       NaN       NaN   \n",
       "4           41.0        ENE         NW  ...       1006.0       7.0       8.0   \n",
       "\n",
       "   Temp9am  Temp3pm  RainToday  RainTomorrow  year  month  day  \n",
       "0     16.9     21.8         No            No  2008     12    1  \n",
       "1     17.2     24.3         No            No  2008     12    2  \n",
       "2     21.0     23.2         No            No  2008     12    3  \n",
       "3     18.1     26.5         No            No  2008     12    4  \n",
       "4     17.8     29.7         No            No  2008     12    5  \n",
       "\n",
       "[5 rows x 25 columns]"
      ]
     },
     "execution_count": 16,
     "metadata": {},
     "output_type": "execute_result"
    }
   ],
   "source": [
    "# Convertig Date column in to date format and splitting it into year,month and date\n",
    "df['Date'] = pd.to_datetime(df['Date'])\n",
    "df['year'] = df['Date'].dt.year\n",
    "df['month'] = df['Date'].dt.month\n",
    "df['day'] = df['Date'].dt.day\n",
    "df.drop('Date',axis = 1,inplace = True)\n",
    "df.head()"
   ]
  },
  {
   "cell_type": "code",
   "execution_count": 17,
   "id": "7c696249",
   "metadata": {
    "colab": {
     "base_uri": "https://localhost:8080/"
    },
    "execution": {
     "iopub.execute_input": "2022-01-21T22:23:18.067709Z",
     "iopub.status.busy": "2022-01-21T22:23:18.067039Z",
     "iopub.status.idle": "2022-01-21T22:23:18.615901Z",
     "shell.execute_reply": "2022-01-21T22:23:18.616639Z",
     "shell.execute_reply.started": "2022-01-21T22:17:05.002775Z"
    },
    "id": "7c696249",
    "outputId": "e778bbfd-ad45-4bef-d494-715c0e07b9c5",
    "papermill": {
     "duration": 0.601139,
     "end_time": "2022-01-21T22:23:18.616884",
     "exception": false,
     "start_time": "2022-01-21T22:23:18.015745",
     "status": "completed"
    },
    "tags": []
   },
   "outputs": [
    {
     "name": "stdout",
     "output_type": "stream",
     "text": [
      "string\n"
     ]
    }
   ],
   "source": [
    "df[['year', 'month','day']] = df[['year', 'month','day']].astype('string')\n",
    "print(df.year.dtypes)"
   ]
  },
  {
   "cell_type": "code",
   "execution_count": 18,
   "id": "5564b1ae",
   "metadata": {
    "colab": {
     "base_uri": "https://localhost:8080/",
     "height": 1000
    },
    "execution": {
     "iopub.execute_input": "2022-01-21T22:23:18.713958Z",
     "iopub.status.busy": "2022-01-21T22:23:18.713170Z",
     "iopub.status.idle": "2022-01-21T22:23:24.503417Z",
     "shell.execute_reply": "2022-01-21T22:23:24.502487Z",
     "shell.execute_reply.started": "2022-01-21T20:15:03.544877Z"
    },
    "id": "5564b1ae",
    "outputId": "16053207-2904-4659-bcff-7032e27fb94f",
    "papermill": {
     "duration": 5.8411,
     "end_time": "2022-01-21T22:23:24.503602",
     "exception": false,
     "start_time": "2022-01-21T22:23:18.662502",
     "status": "completed"
    },
    "tags": []
   },
   "outputs": [
    {
     "data": {
      "image/png": "[encoded data removed]",
      "text/plain": [
       "<Figure size 360x360 with 1 Axes>"
      ]
     },
     "metadata": {
      "needs_background": "light"
     },
     "output_type": "display_data"
    },
    {
     "data": {
      "image/png": "[encoded data removed]",
      "text/plain": [
       "<Figure size 360x360 with 1 Axes>"
      ]
     },
     "metadata": {
      "needs_background": "light"
     },
     "output_type": "display_data"
    },
    {
     "data": {
      "image/png": "[encoded data removed]",
      "text/plain": [
       "<Figure size 360x360 with 1 Axes>"
      ]
     },
     "metadata": {
      "needs_background": "light"
     },
     "output_type": "display_data"
    },
    {
     "data": {
      "image/png": "[encoded data removed]",
      "text/plain": [
       "<Figure size 360x360 with 1 Axes>"
      ]
     },
     "metadata": {
      "needs_background": "light"
     },
     "output_type": "display_data"
    },
    {
     "data": {
      "image/png": "[encoded data removed]",
      "text/plain": [
       "<Figure size 360x360 with 1 Axes>"
      ]
     },
     "metadata": {
      "needs_background": "light"
     },
     "output_type": "display_data"
    },
    {
     "data": {
      "image/png": "[encoded data removed]",
      "text/plain": [
       "<Figure size 360x360 with 1 Axes>"
      ]
     },
     "metadata": {
      "needs_background": "light"
     },
     "output_type": "display_data"
    },
    {
     "data": {
      "image/png": "[encoded data removed]",
      "text/plain": [
       "<Figure size 360x360 with 1 Axes>"
      ]
     },
     "metadata": {
      "needs_background": "light"
     },
     "output_type": "display_data"
    },
    {
     "data": {
      "image/png": "[encoded data removed]",
      "text/plain": [
       "<Figure size 360x360 with 1 Axes>"
      ]
     },
     "metadata": {
      "needs_background": "light"
     },
     "output_type": "display_data"
    },
    {
     "data": {
      "image/png": "[encoded data removed]",
      "text/plain": [
       "<Figure size 360x360 with 1 Axes>"
      ]
     },
     "metadata": {
      "needs_background": "light"
     },
     "output_type": "display_data"
    },
    {
     "data": {
      "image/png": "[encoded data removed]",
      "text/plain": [
       "<Figure size 360x360 with 1 Axes>"
      ]
     },
     "metadata": {
      "needs_background": "light"
     },
     "output_type": "display_data"
    },
    {
     "data": {
      "image/png": "[encoded data removed]",
      "text/plain": [
       "<Figure size 360x360 with 1 Axes>"
      ]
     },
     "metadata": {
      "needs_background": "light"
     },
     "output_type": "display_data"
    },
    {
     "data": {
      "image/png": "[encoded data removed]",
      "text/plain": [
       "<Figure size 360x360 with 1 Axes>"
      ]
     },
     "metadata": {
      "needs_background": "light"
     },
     "output_type": "display_data"
    },
    {
     "data": {
      "image/png": "[encoded data removed]",
      "text/plain": [
       "<Figure size 360x360 with 1 Axes>"
      ]
     },
     "metadata": {
      "needs_background": "light"
     },
     "output_type": "display_data"
    },
    {
     "data": {
      "image/png": "[encoded data removed]",
      "text/plain": [
       "<Figure size 360x360 with 1 Axes>"
      ]
     },
     "metadata": {
      "needs_background": "light"
     },
     "output_type": "display_data"
    },
    {
     "data": {
      "image/png": "[encoded data removed]",
      "text/plain": [
       "<Figure size 360x360 with 1 Axes>"
      ]
     },
     "metadata": {
      "needs_background": "light"
     },
     "output_type": "display_data"
    },
    {
     "data": {
      "image/png": "[encoded data removed]",
      "text/plain": [
       "<Figure size 360x360 with 1 Axes>"
      ]
     },
     "metadata": {
      "needs_background": "light"
     },
     "output_type": "display_data"
    }
   ],
   "source": [
    "# checking for outliers in numerical data type columns\n",
    "# first we will analyze outliers using box plot\n",
    "for i in integer:\n",
    "    plt.figure(figsize=(5,5))\n",
    "    fig = df.boxplot(column=i)\n",
    "    fig.set_ylabel('i')\n",
    "\n"
   ]
  },
  {
   "cell_type": "code",
   "execution_count": 19,
   "id": "e56728e0",
   "metadata": {
    "execution": {
     "iopub.execute_input": "2022-01-21T22:23:24.620702Z",
     "iopub.status.busy": "2022-01-21T22:23:24.616484Z",
     "iopub.status.idle": "2022-01-21T22:23:24.675157Z",
     "shell.execute_reply": "2022-01-21T22:23:24.674626Z",
     "shell.execute_reply.started": "2022-01-21T22:17:13.378013Z"
    },
    "id": "e56728e0",
    "papermill": {
     "duration": 0.116249,
     "end_time": "2022-01-21T22:23:24.675304",
     "exception": false,
     "start_time": "2022-01-21T22:23:24.559055",
     "status": "completed"
    },
    "tags": []
   },
   "outputs": [],
   "source": [
    "# now we will use IQR method to remove outliers from the required columns\n",
    "from scipy import stats\n",
    "q1 = df.MinTemp.quantile(0.25)\n",
    "q3 = df.MinTemp.quantile(0.75)\n",
    "iqr = q3-q1\n",
    "lowerbound = q1 - 1.5 * iqr\n",
    "upperbound = q3 + 1.5 * iqr\n",
    "df.drop(df[ (df.MinTemp > upperbound) | (df.MinTemp < lowerbound) ].index , inplace=True)"
   ]
  },
  {
   "cell_type": "code",
   "execution_count": 20,
   "id": "af8185ea",
   "metadata": {
    "colab": {
     "base_uri": "https://localhost:8080/",
     "height": 337
    },
    "execution": {
     "iopub.execute_input": "2022-01-21T22:23:24.788202Z",
     "iopub.status.busy": "2022-01-21T22:23:24.787504Z",
     "iopub.status.idle": "2022-01-21T22:23:25.208488Z",
     "shell.execute_reply": "2022-01-21T22:23:25.207795Z",
     "shell.execute_reply.started": "2022-01-21T22:15:12.142491Z"
    },
    "id": "af8185ea",
    "outputId": "86c51f88-e0e7-48e5-c107-c7ad006111ef",
    "papermill": {
     "duration": 0.478593,
     "end_time": "2022-01-21T22:23:25.208645",
     "exception": false,
     "start_time": "2022-01-21T22:23:24.730052",
     "status": "completed"
    },
    "tags": []
   },
   "outputs": [
    {
     "data": {
      "text/plain": [
       "Text(0, 0.5, 'MinTemp')"
      ]
     },
     "execution_count": 20,
     "metadata": {},
     "output_type": "execute_result"
    },
    {
     "data": {
      "image/png": "[encoded data removed]",
      "text/plain": [
       "<Figure size 360x360 with 1 Axes>"
      ]
     },
     "metadata": {
      "needs_background": "light"
     },
     "output_type": "display_data"
    }
   ],
   "source": [
    "# checking boxplot for MinTemp\n",
    "plt.figure(figsize=(5,5))\n",
    "fig = df.boxplot(column='MinTemp')\n",
    "fig.set_ylabel('MinTemp')"
   ]
  },
  {
   "cell_type": "markdown",
   "id": "d2025874",
   "metadata": {
    "id": "d2025874",
    "papermill": {
     "duration": 0.055627,
     "end_time": "2022-01-21T22:23:25.320530",
     "exception": false,
     "start_time": "2022-01-21T22:23:25.264903",
     "status": "completed"
    },
    "tags": []
   },
   "source": [
    "As we can see that now outliers are removed from this MinTemp, similary like this we will remove the outliers from all the other columns."
   ]
  },
  {
   "cell_type": "code",
   "execution_count": 21,
   "id": "24a5a615",
   "metadata": {
    "execution": {
     "iopub.execute_input": "2022-01-21T22:23:25.441433Z",
     "iopub.status.busy": "2022-01-21T22:23:25.440727Z",
     "iopub.status.idle": "2022-01-21T22:23:25.895000Z",
     "shell.execute_reply": "2022-01-21T22:23:25.894288Z",
     "shell.execute_reply.started": "2022-01-21T22:17:17.156191Z"
    },
    "id": "24a5a615",
    "papermill": {
     "duration": 0.518017,
     "end_time": "2022-01-21T22:23:25.895144",
     "exception": false,
     "start_time": "2022-01-21T22:23:25.377127",
     "status": "completed"
    },
    "tags": []
   },
   "outputs": [],
   "source": [
    "# removing outliers from the remaining columns\n",
    "l1 = ['MaxTemp', 'Rainfall', 'Evaporation', 'WindGustSpeed', 'WindSpeed9am', 'WindSpeed3pm', 'Humidity9am', 'Pressure9am', 'Pressure3pm', 'Temp9am', 'Temp3pm']\n",
    "for i in l1:\n",
    "    q1 = df[i].quantile(0.25)\n",
    "    q3 = df[i].quantile(0.75)\n",
    "    iqr = q3-q1\n",
    "    lowerbound = q1 - 1.5 * iqr\n",
    "    upperbound = q3 + 1.5 * iqr\n",
    "    df.drop(df[ (df[i] > upperbound) | (df[i] < lowerbound) ].index , inplace=True)"
   ]
  },
  {
   "cell_type": "code",
   "execution_count": 22,
   "id": "61881c6e",
   "metadata": {
    "colab": {
     "base_uri": "https://localhost:8080/"
    },
    "execution": {
     "iopub.execute_input": "2022-01-21T22:23:26.029666Z",
     "iopub.status.busy": "2022-01-21T22:23:26.014422Z",
     "iopub.status.idle": "2022-01-21T22:23:26.072953Z",
     "shell.execute_reply": "2022-01-21T22:23:26.072356Z",
     "shell.execute_reply.started": "2022-01-21T22:17:19.476938Z"
    },
    "id": "61881c6e",
    "outputId": "366686a0-d411-4bea-a469-09e8b93c6a85",
    "papermill": {
     "duration": 0.119819,
     "end_time": "2022-01-21T22:23:26.073098",
     "exception": false,
     "start_time": "2022-01-21T22:23:25.953279",
     "status": "completed"
    },
    "tags": []
   },
   "outputs": [
    {
     "name": "stdout",
     "output_type": "stream",
     "text": [
      "int64\n"
     ]
    }
   ],
   "source": [
    "# converting them again in integer\n",
    "df[['year', 'month','day']] = df[['year', 'month','day']].astype('int')\n",
    "print(df.year.dtypes)\n"
   ]
  },
  {
   "cell_type": "code",
   "execution_count": 23,
   "id": "a628409a",
   "metadata": {
    "colab": {
     "base_uri": "https://localhost:8080/"
    },
    "execution": {
     "iopub.execute_input": "2022-01-21T22:23:26.192704Z",
     "iopub.status.busy": "2022-01-21T22:23:26.191993Z",
     "iopub.status.idle": "2022-01-21T22:23:26.194694Z",
     "shell.execute_reply": "2022-01-21T22:23:26.195190Z",
     "shell.execute_reply.started": "2022-01-21T22:17:22.176035Z"
    },
    "id": "a628409a",
    "outputId": "35c15ef5-0f80-416c-8622-6249cc9f7d9e",
    "papermill": {
     "duration": 0.065794,
     "end_time": "2022-01-21T22:23:26.195360",
     "exception": false,
     "start_time": "2022-01-21T22:23:26.129566",
     "status": "completed"
    },
    "tags": []
   },
   "outputs": [
    {
     "name": "stdout",
     "output_type": "stream",
     "text": [
      "['MinTemp', 'MaxTemp', 'Rainfall', 'Evaporation', 'Sunshine', 'WindGustSpeed', 'WindSpeed9am', 'WindSpeed3pm', 'Humidity9am', 'Humidity3pm', 'Pressure9am', 'Pressure3pm', 'Cloud9am', 'Cloud3pm', 'Temp9am', 'Temp3pm', 'year', 'month', 'day']\n"
     ]
    }
   ],
   "source": [
    "# new columns with data type integer\n",
    "integer1 = [i for i in df.columns if df[i].dtype !='O']\n",
    "print(integer1)"
   ]
  },
  {
   "cell_type": "markdown",
   "id": "7763db55",
   "metadata": {
    "id": "7763db55",
    "papermill": {
     "duration": 0.056309,
     "end_time": "2022-01-21T22:23:26.309252",
     "exception": false,
     "start_time": "2022-01-21T22:23:26.252943",
     "status": "completed"
    },
    "tags": []
   },
   "source": [
    "**Splitting the Data**"
   ]
  },
  {
   "cell_type": "code",
   "execution_count": 24,
   "id": "de177cd4",
   "metadata": {
    "colab": {
     "base_uri": "https://localhost:8080/"
    },
    "execution": {
     "iopub.execute_input": "2022-01-21T22:23:26.426508Z",
     "iopub.status.busy": "2022-01-21T22:23:26.425830Z",
     "iopub.status.idle": "2022-01-21T22:23:26.656913Z",
     "shell.execute_reply": "2022-01-21T22:23:26.656341Z",
     "shell.execute_reply.started": "2022-01-21T22:17:24.835120Z"
    },
    "id": "de177cd4",
    "outputId": "6fb94cdd-71ae-421c-c8be-c9627782ecc1",
    "papermill": {
     "duration": 0.290739,
     "end_time": "2022-01-21T22:23:26.657064",
     "exception": false,
     "start_time": "2022-01-21T22:23:26.366325",
     "status": "completed"
    },
    "tags": []
   },
   "outputs": [
    {
     "data": {
      "text/plain": [
       "((85016, 24), (21255, 24))"
      ]
     },
     "execution_count": 24,
     "metadata": {},
     "output_type": "execute_result"
    }
   ],
   "source": [
    "from sklearn.model_selection import train_test_split\n",
    "X = df.drop(['RainTomorrow'], axis=1)\n",
    "y = df['RainTomorrow']\n",
    "X_train, X_test, y_train, y_test = train_test_split(X, y, test_size = 0.2, random_state = 0)\n",
    "\n",
    "X_train.shape, X_test.shape"
   ]
  },
  {
   "cell_type": "markdown",
   "id": "b7d83611",
   "metadata": {
    "id": "b7d83611",
    "papermill": {
     "duration": 0.057979,
     "end_time": "2022-01-21T22:23:26.773096",
     "exception": false,
     "start_time": "2022-01-21T22:23:26.715117",
     "status": "completed"
    },
    "tags": []
   },
   "source": [
    "Checking NAN values in the integer data types and replacing them with the Median values of the column"
   ]
  },
  {
   "cell_type": "code",
   "execution_count": 25,
   "id": "398e2397",
   "metadata": {
    "execution": {
     "iopub.execute_input": "2022-01-21T22:23:26.891789Z",
     "iopub.status.busy": "2022-01-21T22:23:26.891019Z",
     "iopub.status.idle": "2022-01-21T22:23:26.958764Z",
     "shell.execute_reply": "2022-01-21T22:23:26.958096Z",
     "shell.execute_reply.started": "2022-01-21T22:17:27.756872Z"
    },
    "id": "398e2397",
    "papermill": {
     "duration": 0.12812,
     "end_time": "2022-01-21T22:23:26.958927",
     "exception": false,
     "start_time": "2022-01-21T22:23:26.830807",
     "status": "completed"
    },
    "tags": []
   },
   "outputs": [],
   "source": [
    "# replacing integer NAN values with Median \n",
    "for df in [X_train, X_test]:\n",
    "    for col in integer1:\n",
    "        col_median=X_train[col].median()\n",
    "        df[col].fillna(col_median, inplace=True)"
   ]
  },
  {
   "cell_type": "code",
   "execution_count": 26,
   "id": "4ac95d37",
   "metadata": {
    "colab": {
     "base_uri": "https://localhost:8080/"
    },
    "execution": {
     "iopub.execute_input": "2022-01-21T22:23:27.077712Z",
     "iopub.status.busy": "2022-01-21T22:23:27.076971Z",
     "iopub.status.idle": "2022-01-21T22:23:27.091139Z",
     "shell.execute_reply": "2022-01-21T22:23:27.091737Z",
     "shell.execute_reply.started": "2022-01-21T22:17:34.999762Z"
    },
    "id": "4ac95d37",
    "outputId": "13719968-f03c-4496-9313-77fd8dc84714",
    "papermill": {
     "duration": 0.075996,
     "end_time": "2022-01-21T22:23:27.091918",
     "exception": false,
     "start_time": "2022-01-21T22:23:27.015922",
     "status": "completed"
    },
    "tags": []
   },
   "outputs": [
    {
     "data": {
      "text/plain": [
       "MinTemp          0\n",
       "MaxTemp          0\n",
       "Rainfall         0\n",
       "Evaporation      0\n",
       "Sunshine         0\n",
       "WindGustSpeed    0\n",
       "WindSpeed9am     0\n",
       "WindSpeed3pm     0\n",
       "Humidity9am      0\n",
       "Humidity3pm      0\n",
       "Pressure9am      0\n",
       "Pressure3pm      0\n",
       "Cloud9am         0\n",
       "Cloud3pm         0\n",
       "Temp9am          0\n",
       "Temp3pm          0\n",
       "year             0\n",
       "month            0\n",
       "day              0\n",
       "dtype: int64"
      ]
     },
     "execution_count": 26,
     "metadata": {},
     "output_type": "execute_result"
    }
   ],
   "source": [
    "# checking values in X_train\n",
    "X_train[integer1].isnull().sum()"
   ]
  },
  {
   "cell_type": "code",
   "execution_count": 27,
   "id": "ecdcd84d",
   "metadata": {
    "colab": {
     "base_uri": "https://localhost:8080/"
    },
    "execution": {
     "iopub.execute_input": "2022-01-21T22:23:27.210672Z",
     "iopub.status.busy": "2022-01-21T22:23:27.209966Z",
     "iopub.status.idle": "2022-01-21T22:23:27.219476Z",
     "shell.execute_reply": "2022-01-21T22:23:27.219975Z",
     "shell.execute_reply.started": "2022-01-21T22:17:38.552017Z"
    },
    "id": "ecdcd84d",
    "outputId": "7bda307d-5206-4f7e-ada4-d963ad6c4205",
    "papermill": {
     "duration": 0.070767,
     "end_time": "2022-01-21T22:23:27.220164",
     "exception": false,
     "start_time": "2022-01-21T22:23:27.149397",
     "status": "completed"
    },
    "tags": []
   },
   "outputs": [
    {
     "data": {
      "text/plain": [
       "MinTemp          0\n",
       "MaxTemp          0\n",
       "Rainfall         0\n",
       "Evaporation      0\n",
       "Sunshine         0\n",
       "WindGustSpeed    0\n",
       "WindSpeed9am     0\n",
       "WindSpeed3pm     0\n",
       "Humidity9am      0\n",
       "Humidity3pm      0\n",
       "Pressure9am      0\n",
       "Pressure3pm      0\n",
       "Cloud9am         0\n",
       "Cloud3pm         0\n",
       "Temp9am          0\n",
       "Temp3pm          0\n",
       "year             0\n",
       "month            0\n",
       "day              0\n",
       "dtype: int64"
      ]
     },
     "execution_count": 27,
     "metadata": {},
     "output_type": "execute_result"
    }
   ],
   "source": [
    "# checking values in X_test\n",
    "X_test[integer1].isnull().sum()"
   ]
  },
  {
   "cell_type": "code",
   "execution_count": 28,
   "id": "bce30c50",
   "metadata": {
    "execution": {
     "iopub.execute_input": "2022-01-21T22:23:27.340260Z",
     "iopub.status.busy": "2022-01-21T22:23:27.339596Z",
     "iopub.status.idle": "2022-01-21T22:23:27.497143Z",
     "shell.execute_reply": "2022-01-21T22:23:27.496605Z",
     "shell.execute_reply.started": "2022-01-21T22:17:42.795117Z"
    },
    "id": "bce30c50",
    "papermill": {
     "duration": 0.219426,
     "end_time": "2022-01-21T22:23:27.497295",
     "exception": false,
     "start_time": "2022-01-21T22:23:27.277869",
     "status": "completed"
    },
    "tags": []
   },
   "outputs": [],
   "source": [
    "# replcaing NAN values with the mode in categorical data types\n",
    "for df1 in [X_train, X_test]:\n",
    "    df1['WindGustDir'].fillna(X_train['WindGustDir'].mode()[0], inplace=True)\n",
    "    df1['WindDir9am'].fillna(X_train['WindDir9am'].mode()[0], inplace=True)\n",
    "    df1['WindDir3pm'].fillna(X_train['WindDir3pm'].mode()[0], inplace=True)\n",
    "    df1['RainToday'].fillna(X_train['RainToday'].mode()[0], inplace=True)"
   ]
  },
  {
   "cell_type": "code",
   "execution_count": 29,
   "id": "7c6fdcb4",
   "metadata": {
    "colab": {
     "base_uri": "https://localhost:8080/"
    },
    "execution": {
     "iopub.execute_input": "2022-01-21T22:23:27.616570Z",
     "iopub.status.busy": "2022-01-21T22:23:27.615872Z",
     "iopub.status.idle": "2022-01-21T22:23:27.663799Z",
     "shell.execute_reply": "2022-01-21T22:23:27.664251Z",
     "shell.execute_reply.started": "2022-01-21T22:17:46.186704Z"
    },
    "id": "7c6fdcb4",
    "outputId": "f3101e8d-55f4-49a3-fe08-cb75d2080f9e",
    "papermill": {
     "duration": 0.108915,
     "end_time": "2022-01-21T22:23:27.664435",
     "exception": false,
     "start_time": "2022-01-21T22:23:27.555520",
     "status": "completed"
    },
    "tags": []
   },
   "outputs": [
    {
     "data": {
      "text/plain": [
       "WindGustDir    0\n",
       "WindDir9am     0\n",
       "WindDir3pm     0\n",
       "RainToday      0\n",
       "dtype: int64"
      ]
     },
     "execution_count": 29,
     "metadata": {},
     "output_type": "execute_result"
    }
   ],
   "source": [
    "categorical1 = [i for i in X_train.columns if X_train[i].dtype == 'O']\n",
    "# As Location column don't have any NAN values\n",
    "categorical1.remove('Location')\n",
    "# checking NAN values in X_train\n",
    "X_train[categorical1].isnull().sum()"
   ]
  },
  {
   "cell_type": "code",
   "execution_count": 30,
   "id": "96b70e08",
   "metadata": {
    "colab": {
     "base_uri": "https://localhost:8080/"
    },
    "execution": {
     "iopub.execute_input": "2022-01-21T22:23:27.786073Z",
     "iopub.status.busy": "2022-01-21T22:23:27.785374Z",
     "iopub.status.idle": "2022-01-21T22:23:27.803497Z",
     "shell.execute_reply": "2022-01-21T22:23:27.803999Z",
     "shell.execute_reply.started": "2022-01-21T22:17:49.822025Z"
    },
    "id": "96b70e08",
    "outputId": "cae988ce-de67-41d4-a0d5-c5448efe0cb0",
    "papermill": {
     "duration": 0.082074,
     "end_time": "2022-01-21T22:23:27.804187",
     "exception": false,
     "start_time": "2022-01-21T22:23:27.722113",
     "status": "completed"
    },
    "tags": []
   },
   "outputs": [
    {
     "data": {
      "text/plain": [
       "WindGustDir    0\n",
       "WindDir9am     0\n",
       "WindDir3pm     0\n",
       "RainToday      0\n",
       "dtype: int64"
      ]
     },
     "execution_count": 30,
     "metadata": {},
     "output_type": "execute_result"
    }
   ],
   "source": [
    "# checking NAN values in X_test\n",
    "X_test[categorical1].isnull().sum()"
   ]
  },
  {
   "cell_type": "code",
   "execution_count": 31,
   "id": "71cc6aca",
   "metadata": {
    "colab": {
     "base_uri": "https://localhost:8080/"
    },
    "execution": {
     "iopub.execute_input": "2022-01-21T22:23:27.926668Z",
     "iopub.status.busy": "2022-01-21T22:23:27.925996Z",
     "iopub.status.idle": "2022-01-21T22:23:27.974580Z",
     "shell.execute_reply": "2022-01-21T22:23:27.973988Z",
     "shell.execute_reply.started": "2022-01-21T22:17:54.987693Z"
    },
    "id": "71cc6aca",
    "outputId": "3f613b40-c5b5-41ab-fe73-f618138a3ea0",
    "papermill": {
     "duration": 0.111359,
     "end_time": "2022-01-21T22:23:27.974752",
     "exception": false,
     "start_time": "2022-01-21T22:23:27.863393",
     "status": "completed"
    },
    "tags": []
   },
   "outputs": [
    {
     "name": "stdout",
     "output_type": "stream",
     "text": [
      "[1 0]\n",
      "Index(['Location', 'MinTemp', 'MaxTemp', 'Rainfall', 'Evaporation', 'Sunshine',\n",
      "       'WindGustDir', 'WindGustSpeed', 'WindDir9am', 'WindDir3pm',\n",
      "       'WindSpeed9am', 'WindSpeed3pm', 'Humidity9am', 'Humidity3pm',\n",
      "       'Pressure9am', 'Pressure3pm', 'Cloud9am', 'Cloud3pm', 'Temp9am',\n",
      "       'Temp3pm', 'RainToday', 'year', 'month', 'day'],\n",
      "      dtype='object')\n"
     ]
    }
   ],
   "source": [
    "# Encoding Rain Today column\n",
    "from sklearn import preprocessing\n",
    " \n",
    "# label_encoder object knows how to understand word labels.\n",
    "label_encoder = preprocessing.LabelEncoder()\n",
    " \n",
    "# Encode labels in column 'species'.\n",
    "X_train['RainToday'] = label_encoder.fit_transform(X_train['RainToday'])\n",
    "\n",
    "X_test['RainToday'] = label_encoder.transform(X_test['RainToday'])\n",
    " \n",
    "print(X_train['RainToday'].unique())\n",
    "print(X_train.columns)"
   ]
  },
  {
   "cell_type": "code",
   "execution_count": 32,
   "id": "395caadb",
   "metadata": {
    "colab": {
     "base_uri": "https://localhost:8080/",
     "height": 233
    },
    "execution": {
     "iopub.execute_input": "2022-01-21T22:23:28.097802Z",
     "iopub.status.busy": "2022-01-21T22:23:28.097085Z",
     "iopub.status.idle": "2022-01-21T22:23:28.192616Z",
     "shell.execute_reply": "2022-01-21T22:23:28.193140Z",
     "shell.execute_reply.started": "2022-01-21T22:17:59.692319Z"
    },
    "id": "395caadb",
    "outputId": "b00f5fea-3803-495e-a484-500f8717b8c1",
    "papermill": {
     "duration": 0.158455,
     "end_time": "2022-01-21T22:23:28.193331",
     "exception": false,
     "start_time": "2022-01-21T22:23:28.034876",
     "status": "completed"
    },
    "tags": []
   },
   "outputs": [
    {
     "data": {
      "text/html": [
       "\n",
       "  <div id=\"df-dc67fed8-338b-42b5-973f-1db336a4e223\">\n",
       "    <div class=\"colab-df-container\">\n",
       "      <div>\n",
       "<style scoped>\n",
       "    .dataframe tbody tr th:only-of-type {\n",
       "        vertical-align: middle;\n",
       "    }\n",
       "\n",
       "    .dataframe tbody tr th {\n",
       "        vertical-align: top;\n",
       "    }\n",
       "\n",
       "    .dataframe thead th {\n",
       "        text-align: right;\n",
       "    }\n",
       "</style>\n",
       "<table border=\"1\" class=\"dataframe\">\n",
       "  <thead>\n",
       "    <tr style=\"text-align: right;\">\n",
       "      <th></th>\n",
       "      <th>MinTemp</th>\n",
       "      <th>MaxTemp</th>\n",
       "      <th>Rainfall</th>\n",
       "      <th>Evaporation</th>\n",
       "      <th>Sunshine</th>\n",
       "      <th>WindGustSpeed</th>\n",
       "      <th>WindSpeed9am</th>\n",
       "      <th>WindSpeed3pm</th>\n",
       "      <th>Humidity9am</th>\n",
       "      <th>Humidity3pm</th>\n",
       "      <th>...</th>\n",
       "      <th>NNW</th>\n",
       "      <th>NW</th>\n",
       "      <th>S</th>\n",
       "      <th>SE</th>\n",
       "      <th>SSE</th>\n",
       "      <th>SSW</th>\n",
       "      <th>SW</th>\n",
       "      <th>W</th>\n",
       "      <th>WNW</th>\n",
       "      <th>WSW</th>\n",
       "    </tr>\n",
       "  </thead>\n",
       "  <tbody>\n",
       "    <tr>\n",
       "      <th>22781</th>\n",
       "      <td>21.1</td>\n",
       "      <td>25.0</td>\n",
       "      <td>1.2</td>\n",
       "      <td>5.2</td>\n",
       "      <td>4.8</td>\n",
       "      <td>33.0</td>\n",
       "      <td>17.0</td>\n",
       "      <td>22.0</td>\n",
       "      <td>89.0</td>\n",
       "      <td>84.0</td>\n",
       "      <td>...</td>\n",
       "      <td>0</td>\n",
       "      <td>0</td>\n",
       "      <td>1</td>\n",
       "      <td>0</td>\n",
       "      <td>0</td>\n",
       "      <td>0</td>\n",
       "      <td>0</td>\n",
       "      <td>0</td>\n",
       "      <td>0</td>\n",
       "      <td>0</td>\n",
       "    </tr>\n",
       "    <tr>\n",
       "      <th>20511</th>\n",
       "      <td>17.3</td>\n",
       "      <td>25.4</td>\n",
       "      <td>0.2</td>\n",
       "      <td>5.0</td>\n",
       "      <td>9.2</td>\n",
       "      <td>22.0</td>\n",
       "      <td>7.0</td>\n",
       "      <td>19.0</td>\n",
       "      <td>74.0</td>\n",
       "      <td>58.0</td>\n",
       "      <td>...</td>\n",
       "      <td>0</td>\n",
       "      <td>0</td>\n",
       "      <td>0</td>\n",
       "      <td>0</td>\n",
       "      <td>1</td>\n",
       "      <td>0</td>\n",
       "      <td>0</td>\n",
       "      <td>0</td>\n",
       "      <td>0</td>\n",
       "      <td>0</td>\n",
       "    </tr>\n",
       "    <tr>\n",
       "      <th>139813</th>\n",
       "      <td>19.2</td>\n",
       "      <td>36.0</td>\n",
       "      <td>0.0</td>\n",
       "      <td>8.0</td>\n",
       "      <td>9.2</td>\n",
       "      <td>33.0</td>\n",
       "      <td>6.0</td>\n",
       "      <td>19.0</td>\n",
       "      <td>50.0</td>\n",
       "      <td>23.0</td>\n",
       "      <td>...</td>\n",
       "      <td>0</td>\n",
       "      <td>0</td>\n",
       "      <td>0</td>\n",
       "      <td>0</td>\n",
       "      <td>0</td>\n",
       "      <td>1</td>\n",
       "      <td>0</td>\n",
       "      <td>0</td>\n",
       "      <td>0</td>\n",
       "      <td>0</td>\n",
       "    </tr>\n",
       "    <tr>\n",
       "      <th>17454</th>\n",
       "      <td>13.8</td>\n",
       "      <td>27.5</td>\n",
       "      <td>0.0</td>\n",
       "      <td>5.0</td>\n",
       "      <td>9.2</td>\n",
       "      <td>37.0</td>\n",
       "      <td>0.0</td>\n",
       "      <td>17.0</td>\n",
       "      <td>72.0</td>\n",
       "      <td>49.0</td>\n",
       "      <td>...</td>\n",
       "      <td>0</td>\n",
       "      <td>0</td>\n",
       "      <td>0</td>\n",
       "      <td>1</td>\n",
       "      <td>0</td>\n",
       "      <td>0</td>\n",
       "      <td>0</td>\n",
       "      <td>0</td>\n",
       "      <td>0</td>\n",
       "      <td>0</td>\n",
       "    </tr>\n",
       "    <tr>\n",
       "      <th>46383</th>\n",
       "      <td>-0.5</td>\n",
       "      <td>21.8</td>\n",
       "      <td>0.0</td>\n",
       "      <td>5.0</td>\n",
       "      <td>9.2</td>\n",
       "      <td>22.0</td>\n",
       "      <td>6.0</td>\n",
       "      <td>11.0</td>\n",
       "      <td>72.0</td>\n",
       "      <td>33.0</td>\n",
       "      <td>...</td>\n",
       "      <td>1</td>\n",
       "      <td>0</td>\n",
       "      <td>0</td>\n",
       "      <td>0</td>\n",
       "      <td>0</td>\n",
       "      <td>0</td>\n",
       "      <td>0</td>\n",
       "      <td>0</td>\n",
       "      <td>0</td>\n",
       "      <td>0</td>\n",
       "    </tr>\n",
       "  </tbody>\n",
       "</table>\n",
       "<p>5 rows × 117 columns</p>\n",
       "</div>\n",
       "      <button class=\"colab-df-convert\" onclick=\"convertToInteractive('df-dc67fed8-338b-42b5-973f-1db336a4e223')\"\n",
       "              title=\"Convert this dataframe to an interactive table.\"\n",
       "              style=\"display:none;\">\n",
       "        \n",
       "  <svg xmlns=\"http://www.w3.org/2000/svg\" height=\"24px\"viewBox=\"0 0 24 24\"\n",
       "       width=\"24px\">\n",
       "    <path d=\"M0 0h24v24H0V0z\" fill=\"none\"/>\n",
       "    <path d=\"M18.56 5.44l.94 2.06.94-2.06 2.06-.94-2.06-.94-.94-2.06-.94 2.06-2.06.94zm-11 1L8.5 8.5l.94-2.06 2.06-.94-2.06-.94L8.5 2.5l-.94 2.06-2.06.94zm10 10l.94 2.06.94-2.06 2.06-.94-2.06-.94-.94-2.06-.94 2.06-2.06.94z\"/><path d=\"M17.41 7.96l-1.37-1.37c-.4-.4-.92-.59-1.43-.59-.52 0-1.04.2-1.43.59L10.3 9.45l-7.72 7.72c-.78.78-.78 2.05 0 2.83L4 21.41c.39.39.9.59 1.41.59.51 0 1.02-.2 1.41-.59l7.78-7.78 2.81-2.81c.8-.78.8-2.07 0-2.86zM5.41 20L4 18.59l7.72-7.72 1.47 1.35L5.41 20z\"/>\n",
       "  </svg>\n",
       "      </button>\n",
       "      \n",
       "  <style>\n",
       "    .colab-df-container {\n",
       "      display:flex;\n",
       "      flex-wrap:wrap;\n",
       "      gap: 12px;\n",
       "    }\n",
       "\n",
       "    .colab-df-convert {\n",
       "      background-color: #E8F0FE;\n",
       "      border: none;\n",
       "      border-radius: 50%;\n",
       "      cursor: pointer;\n",
       "      display: none;\n",
       "      fill: #1967D2;\n",
       "      height: 32px;\n",
       "      padding: 0 0 0 0;\n",
       "      width: 32px;\n",
       "    }\n",
       "\n",
       "    .colab-df-convert:hover {\n",
       "      background-color: #E2EBFA;\n",
       "      box-shadow: 0px 1px 2px rgba(60, 64, 67, 0.3), 0px 1px 3px 1px rgba(60, 64, 67, 0.15);\n",
       "      fill: #174EA6;\n",
       "    }\n",
       "\n",
       "    [theme=dark] .colab-df-convert {\n",
       "      background-color: #3B4455;\n",
       "      fill: #D2E3FC;\n",
       "    }\n",
       "\n",
       "    [theme=dark] .colab-df-convert:hover {\n",
       "      background-color: #434B5C;\n",
       "      box-shadow: 0px 1px 3px 1px rgba(0, 0, 0, 0.15);\n",
       "      filter: drop-shadow(0px 1px 2px rgba(0, 0, 0, 0.3));\n",
       "      fill: #FFFFFF;\n",
       "    }\n",
       "  </style>\n",
       "\n",
       "      <script>\n",
       "        const buttonEl =\n",
       "          document.querySelector('#df-dc67fed8-338b-42b5-973f-1db336a4e223 button.colab-df-convert');\n",
       "        buttonEl.style.display =\n",
       "          google.colab.kernel.accessAllowed ? 'block' : 'none';\n",
       "\n",
       "        async function convertToInteractive(key) {\n",
       "          const element = document.querySelector('#df-dc67fed8-338b-42b5-973f-1db336a4e223');\n",
       "          const dataTable =\n",
       "            await google.colab.kernel.invokeFunction('convertToInteractive',\n",
       "                                                     [key], {});\n",
       "          if (!dataTable) return;\n",
       "\n",
       "          const docLinkHtml = 'Like what you see? Visit the ' +\n",
       "            '<a target=\"_blank\" href=https://colab.research.google.com/notebooks/data_table.ipynb>data table notebook</a>'\n",
       "            + ' to learn more about interactive tables.';\n",
       "          element.innerHTML = '';\n",
       "          dataTable['output_type'] = 'display_data';\n",
       "          await google.colab.output.renderOutput(dataTable, element);\n",
       "          const docLink = document.createElement('div');\n",
       "          docLink.innerHTML = docLinkHtml;\n",
       "          element.appendChild(docLink);\n",
       "        }\n",
       "      </script>\n",
       "    </div>\n",
       "  </div>\n",
       "  "
      ],
      "text/plain": [
       "        MinTemp  MaxTemp  Rainfall  Evaporation  Sunshine  WindGustSpeed  \\\n",
       "22781      21.1     25.0       1.2          5.2       4.8           33.0   \n",
       "20511      17.3     25.4       0.2          5.0       9.2           22.0   \n",
       "139813     19.2     36.0       0.0          8.0       9.2           33.0   \n",
       "17454      13.8     27.5       0.0          5.0       9.2           37.0   \n",
       "46383      -0.5     21.8       0.0          5.0       9.2           22.0   \n",
       "\n",
       "        WindSpeed9am  WindSpeed3pm  Humidity9am  Humidity3pm  ...  NNW  NW  S  \\\n",
       "22781           17.0          22.0         89.0         84.0  ...    0   0  1   \n",
       "20511            7.0          19.0         74.0         58.0  ...    0   0  0   \n",
       "139813           6.0          19.0         50.0         23.0  ...    0   0  0   \n",
       "17454            0.0          17.0         72.0         49.0  ...    0   0  0   \n",
       "46383            6.0          11.0         72.0         33.0  ...    1   0  0   \n",
       "\n",
       "        SE  SSE  SSW  SW  W  WNW  WSW  \n",
       "22781    0    0    0   0  0    0    0  \n",
       "20511    0    1    0   0  0    0    0  \n",
       "139813   0    0    1   0  0    0    0  \n",
       "17454    1    0    0   0  0    0    0  \n",
       "46383    0    0    0   0  0    0    0  \n",
       "\n",
       "[5 rows x 117 columns]"
      ]
     },
     "execution_count": 32,
     "metadata": {},
     "output_type": "execute_result"
    }
   ],
   "source": [
    "# Encode categorical variables\n",
    "X_train = pd.concat([X_train[integer1], X_train['RainToday'],\n",
    "                     pd.get_dummies(X_train.Location), \n",
    "                     pd.get_dummies(X_train.WindGustDir),\n",
    "                     pd.get_dummies(X_train.WindDir9am),\n",
    "                     pd.get_dummies(X_train.WindDir3pm)], axis=1)\n",
    "X_train.head()"
   ]
  },
  {
   "cell_type": "code",
   "execution_count": 33,
   "id": "0a07b2e1",
   "metadata": {
    "colab": {
     "base_uri": "https://localhost:8080/",
     "height": 233
    },
    "execution": {
     "iopub.execute_input": "2022-01-21T22:23:28.315980Z",
     "iopub.status.busy": "2022-01-21T22:23:28.315244Z",
     "iopub.status.idle": "2022-01-21T22:23:28.359968Z",
     "shell.execute_reply": "2022-01-21T22:23:28.359286Z",
     "shell.execute_reply.started": "2022-01-21T22:18:07.019838Z"
    },
    "id": "0a07b2e1",
    "outputId": "8fdbbaa8-81f3-4ebf-86a1-491f7ff98f34",
    "papermill": {
     "duration": 0.107143,
     "end_time": "2022-01-21T22:23:28.360111",
     "exception": false,
     "start_time": "2022-01-21T22:23:28.252968",
     "status": "completed"
    },
    "tags": []
   },
   "outputs": [
    {
     "data": {
      "text/html": [
       "\n",
       "  <div id=\"df-26784d89-1b16-4261-a711-9e02e8672692\">\n",
       "    <div class=\"colab-df-container\">\n",
       "      <div>\n",
       "<style scoped>\n",
       "    .dataframe tbody tr th:only-of-type {\n",
       "        vertical-align: middle;\n",
       "    }\n",
       "\n",
       "    .dataframe tbody tr th {\n",
       "        vertical-align: top;\n",
       "    }\n",
       "\n",
       "    .dataframe thead th {\n",
       "        text-align: right;\n",
       "    }\n",
       "</style>\n",
       "<table border=\"1\" class=\"dataframe\">\n",
       "  <thead>\n",
       "    <tr style=\"text-align: right;\">\n",
       "      <th></th>\n",
       "      <th>MinTemp</th>\n",
       "      <th>MaxTemp</th>\n",
       "      <th>Rainfall</th>\n",
       "      <th>Evaporation</th>\n",
       "      <th>Sunshine</th>\n",
       "      <th>WindGustSpeed</th>\n",
       "      <th>WindSpeed9am</th>\n",
       "      <th>WindSpeed3pm</th>\n",
       "      <th>Humidity9am</th>\n",
       "      <th>Humidity3pm</th>\n",
       "      <th>...</th>\n",
       "      <th>NNW</th>\n",
       "      <th>NW</th>\n",
       "      <th>S</th>\n",
       "      <th>SE</th>\n",
       "      <th>SSE</th>\n",
       "      <th>SSW</th>\n",
       "      <th>SW</th>\n",
       "      <th>W</th>\n",
       "      <th>WNW</th>\n",
       "      <th>WSW</th>\n",
       "    </tr>\n",
       "  </thead>\n",
       "  <tbody>\n",
       "    <tr>\n",
       "      <th>62691</th>\n",
       "      <td>2.6</td>\n",
       "      <td>17.8</td>\n",
       "      <td>0.0</td>\n",
       "      <td>5.0</td>\n",
       "      <td>9.2</td>\n",
       "      <td>37.0</td>\n",
       "      <td>6.0</td>\n",
       "      <td>9.0</td>\n",
       "      <td>99.0</td>\n",
       "      <td>54.0</td>\n",
       "      <td>...</td>\n",
       "      <td>0</td>\n",
       "      <td>0</td>\n",
       "      <td>0</td>\n",
       "      <td>0</td>\n",
       "      <td>0</td>\n",
       "      <td>0</td>\n",
       "      <td>0</td>\n",
       "      <td>0</td>\n",
       "      <td>0</td>\n",
       "      <td>0</td>\n",
       "    </tr>\n",
       "    <tr>\n",
       "      <th>87872</th>\n",
       "      <td>20.1</td>\n",
       "      <td>30.3</td>\n",
       "      <td>0.0</td>\n",
       "      <td>5.0</td>\n",
       "      <td>9.2</td>\n",
       "      <td>24.0</td>\n",
       "      <td>11.0</td>\n",
       "      <td>19.0</td>\n",
       "      <td>65.0</td>\n",
       "      <td>72.0</td>\n",
       "      <td>...</td>\n",
       "      <td>0</td>\n",
       "      <td>0</td>\n",
       "      <td>0</td>\n",
       "      <td>0</td>\n",
       "      <td>0</td>\n",
       "      <td>0</td>\n",
       "      <td>0</td>\n",
       "      <td>0</td>\n",
       "      <td>0</td>\n",
       "      <td>0</td>\n",
       "    </tr>\n",
       "    <tr>\n",
       "      <th>96717</th>\n",
       "      <td>11.1</td>\n",
       "      <td>25.1</td>\n",
       "      <td>0.0</td>\n",
       "      <td>5.0</td>\n",
       "      <td>9.2</td>\n",
       "      <td>26.0</td>\n",
       "      <td>11.0</td>\n",
       "      <td>7.0</td>\n",
       "      <td>66.0</td>\n",
       "      <td>27.0</td>\n",
       "      <td>...</td>\n",
       "      <td>0</td>\n",
       "      <td>0</td>\n",
       "      <td>0</td>\n",
       "      <td>0</td>\n",
       "      <td>0</td>\n",
       "      <td>0</td>\n",
       "      <td>0</td>\n",
       "      <td>0</td>\n",
       "      <td>1</td>\n",
       "      <td>0</td>\n",
       "    </tr>\n",
       "    <tr>\n",
       "      <th>40766</th>\n",
       "      <td>13.4</td>\n",
       "      <td>20.0</td>\n",
       "      <td>0.0</td>\n",
       "      <td>5.0</td>\n",
       "      <td>9.2</td>\n",
       "      <td>31.0</td>\n",
       "      <td>13.0</td>\n",
       "      <td>15.0</td>\n",
       "      <td>90.0</td>\n",
       "      <td>67.0</td>\n",
       "      <td>...</td>\n",
       "      <td>0</td>\n",
       "      <td>0</td>\n",
       "      <td>0</td>\n",
       "      <td>0</td>\n",
       "      <td>0</td>\n",
       "      <td>0</td>\n",
       "      <td>0</td>\n",
       "      <td>0</td>\n",
       "      <td>0</td>\n",
       "      <td>0</td>\n",
       "    </tr>\n",
       "    <tr>\n",
       "      <th>37794</th>\n",
       "      <td>2.1</td>\n",
       "      <td>14.1</td>\n",
       "      <td>0.0</td>\n",
       "      <td>1.4</td>\n",
       "      <td>5.9</td>\n",
       "      <td>28.0</td>\n",
       "      <td>11.0</td>\n",
       "      <td>11.0</td>\n",
       "      <td>81.0</td>\n",
       "      <td>57.0</td>\n",
       "      <td>...</td>\n",
       "      <td>0</td>\n",
       "      <td>0</td>\n",
       "      <td>0</td>\n",
       "      <td>0</td>\n",
       "      <td>0</td>\n",
       "      <td>0</td>\n",
       "      <td>0</td>\n",
       "      <td>0</td>\n",
       "      <td>0</td>\n",
       "      <td>1</td>\n",
       "    </tr>\n",
       "  </tbody>\n",
       "</table>\n",
       "<p>5 rows × 117 columns</p>\n",
       "</div>\n",
       "      <button class=\"colab-df-convert\" onclick=\"convertToInteractive('df-26784d89-1b16-4261-a711-9e02e8672692')\"\n",
       "              title=\"Convert this dataframe to an interactive table.\"\n",
       "              style=\"display:none;\">\n",
       "        \n",
       "  <svg xmlns=\"http://www.w3.org/2000/svg\" height=\"24px\"viewBox=\"0 0 24 24\"\n",
       "       width=\"24px\">\n",
       "    <path d=\"M0 0h24v24H0V0z\" fill=\"none\"/>\n",
       "    <path d=\"M18.56 5.44l.94 2.06.94-2.06 2.06-.94-2.06-.94-.94-2.06-.94 2.06-2.06.94zm-11 1L8.5 8.5l.94-2.06 2.06-.94-2.06-.94L8.5 2.5l-.94 2.06-2.06.94zm10 10l.94 2.06.94-2.06 2.06-.94-2.06-.94-.94-2.06-.94 2.06-2.06.94z\"/><path d=\"M17.41 7.96l-1.37-1.37c-.4-.4-.92-.59-1.43-.59-.52 0-1.04.2-1.43.59L10.3 9.45l-7.72 7.72c-.78.78-.78 2.05 0 2.83L4 21.41c.39.39.9.59 1.41.59.51 0 1.02-.2 1.41-.59l7.78-7.78 2.81-2.81c.8-.78.8-2.07 0-2.86zM5.41 20L4 18.59l7.72-7.72 1.47 1.35L5.41 20z\"/>\n",
       "  </svg>\n",
       "      </button>\n",
       "      \n",
       "  <style>\n",
       "    .colab-df-container {\n",
       "      display:flex;\n",
       "      flex-wrap:wrap;\n",
       "      gap: 12px;\n",
       "    }\n",
       "\n",
       "    .colab-df-convert {\n",
       "      background-color: #E8F0FE;\n",
       "      border: none;\n",
       "      border-radius: 50%;\n",
       "      cursor: pointer;\n",
       "      display: none;\n",
       "      fill: #1967D2;\n",
       "      height: 32px;\n",
       "      padding: 0 0 0 0;\n",
       "      width: 32px;\n",
       "    }\n",
       "\n",
       "    .colab-df-convert:hover {\n",
       "      background-color: #E2EBFA;\n",
       "      box-shadow: 0px 1px 2px rgba(60, 64, 67, 0.3), 0px 1px 3px 1px rgba(60, 64, 67, 0.15);\n",
       "      fill: #174EA6;\n",
       "    }\n",
       "\n",
       "    [theme=dark] .colab-df-convert {\n",
       "      background-color: #3B4455;\n",
       "      fill: #D2E3FC;\n",
       "    }\n",
       "\n",
       "    [theme=dark] .colab-df-convert:hover {\n",
       "      background-color: #434B5C;\n",
       "      box-shadow: 0px 1px 3px 1px rgba(0, 0, 0, 0.15);\n",
       "      filter: drop-shadow(0px 1px 2px rgba(0, 0, 0, 0.3));\n",
       "      fill: #FFFFFF;\n",
       "    }\n",
       "  </style>\n",
       "\n",
       "      <script>\n",
       "        const buttonEl =\n",
       "          document.querySelector('#df-26784d89-1b16-4261-a711-9e02e8672692 button.colab-df-convert');\n",
       "        buttonEl.style.display =\n",
       "          google.colab.kernel.accessAllowed ? 'block' : 'none';\n",
       "\n",
       "        async function convertToInteractive(key) {\n",
       "          const element = document.querySelector('#df-26784d89-1b16-4261-a711-9e02e8672692');\n",
       "          const dataTable =\n",
       "            await google.colab.kernel.invokeFunction('convertToInteractive',\n",
       "                                                     [key], {});\n",
       "          if (!dataTable) return;\n",
       "\n",
       "          const docLinkHtml = 'Like what you see? Visit the ' +\n",
       "            '<a target=\"_blank\" href=https://colab.research.google.com/notebooks/data_table.ipynb>data table notebook</a>'\n",
       "            + ' to learn more about interactive tables.';\n",
       "          element.innerHTML = '';\n",
       "          dataTable['output_type'] = 'display_data';\n",
       "          await google.colab.output.renderOutput(dataTable, element);\n",
       "          const docLink = document.createElement('div');\n",
       "          docLink.innerHTML = docLinkHtml;\n",
       "          element.appendChild(docLink);\n",
       "        }\n",
       "      </script>\n",
       "    </div>\n",
       "  </div>\n",
       "  "
      ],
      "text/plain": [
       "       MinTemp  MaxTemp  Rainfall  Evaporation  Sunshine  WindGustSpeed  \\\n",
       "62691      2.6     17.8       0.0          5.0       9.2           37.0   \n",
       "87872     20.1     30.3       0.0          5.0       9.2           24.0   \n",
       "96717     11.1     25.1       0.0          5.0       9.2           26.0   \n",
       "40766     13.4     20.0       0.0          5.0       9.2           31.0   \n",
       "37794      2.1     14.1       0.0          1.4       5.9           28.0   \n",
       "\n",
       "       WindSpeed9am  WindSpeed3pm  Humidity9am  Humidity3pm  ...  NNW  NW  S  \\\n",
       "62691           6.0           9.0         99.0         54.0  ...    0   0  0   \n",
       "87872          11.0          19.0         65.0         72.0  ...    0   0  0   \n",
       "96717          11.0           7.0         66.0         27.0  ...    0   0  0   \n",
       "40766          13.0          15.0         90.0         67.0  ...    0   0  0   \n",
       "37794          11.0          11.0         81.0         57.0  ...    0   0  0   \n",
       "\n",
       "       SE  SSE  SSW  SW  W  WNW  WSW  \n",
       "62691   0    0    0   0  0    0    0  \n",
       "87872   0    0    0   0  0    0    0  \n",
       "96717   0    0    0   0  0    1    0  \n",
       "40766   0    0    0   0  0    0    0  \n",
       "37794   0    0    0   0  0    0    1  \n",
       "\n",
       "[5 rows x 117 columns]"
      ]
     },
     "execution_count": 33,
     "metadata": {},
     "output_type": "execute_result"
    }
   ],
   "source": [
    "# Encode categorical variables\n",
    "X_test = pd.concat([X_test[integer1], X_test['RainToday'],\n",
    "                     pd.get_dummies(X_test.Location), \n",
    "                     pd.get_dummies(X_test.WindGustDir),\n",
    "                     pd.get_dummies(X_test.WindDir9am),\n",
    "                     pd.get_dummies(X_test.WindDir3pm)], axis=1)\n",
    "X_test.head()"
   ]
  },
  {
   "cell_type": "markdown",
   "id": "16d75dec",
   "metadata": {
    "id": "16d75dec",
    "papermill": {
     "duration": 0.059678,
     "end_time": "2022-01-21T22:23:28.480631",
     "exception": false,
     "start_time": "2022-01-21T22:23:28.420953",
     "status": "completed"
    },
    "tags": []
   },
   "source": [
    "**Data Normalization**"
   ]
  },
  {
   "cell_type": "code",
   "execution_count": 34,
   "id": "9ae9dc7c",
   "metadata": {
    "execution": {
     "iopub.execute_input": "2022-01-21T22:23:28.612253Z",
     "iopub.status.busy": "2022-01-21T22:23:28.610858Z",
     "iopub.status.idle": "2022-01-21T22:23:28.796238Z",
     "shell.execute_reply": "2022-01-21T22:23:28.795639Z",
     "shell.execute_reply.started": "2022-01-21T22:18:11.314632Z"
    },
    "id": "9ae9dc7c",
    "papermill": {
     "duration": 0.255062,
     "end_time": "2022-01-21T22:23:28.796377",
     "exception": false,
     "start_time": "2022-01-21T22:23:28.541315",
     "status": "completed"
    },
    "tags": []
   },
   "outputs": [],
   "source": [
    "# data Normalization\n",
    "cols = X_train.columns\n",
    "from sklearn.preprocessing import MinMaxScaler\n",
    "\n",
    "scaler = MinMaxScaler()\n",
    "\n",
    "X_train = scaler.fit_transform(X_train)\n",
    "\n",
    "X_test = scaler.transform(X_test)\n",
    "X_train = pd.DataFrame(X_train, columns=[cols])\n",
    "X_test = pd.DataFrame(X_test, columns=[cols])"
   ]
  },
  {
   "cell_type": "markdown",
   "id": "9f4d9f50",
   "metadata": {
    "id": "9f4d9f50",
    "papermill": {
     "duration": 0.05974,
     "end_time": "2022-01-21T22:23:28.916142",
     "exception": false,
     "start_time": "2022-01-21T22:23:28.856402",
     "status": "completed"
    },
    "tags": []
   },
   "source": [
    "**Model Training**"
   ]
  },
  {
   "cell_type": "code",
   "execution_count": 35,
   "id": "58a4d8a9",
   "metadata": {
    "execution": {
     "iopub.execute_input": "2022-01-21T22:23:29.043835Z",
     "iopub.status.busy": "2022-01-21T22:23:29.042777Z",
     "iopub.status.idle": "2022-01-21T22:23:29.047738Z",
     "shell.execute_reply": "2022-01-21T22:23:29.048297Z",
     "shell.execute_reply.started": "2022-01-21T22:18:13.953677Z"
    },
    "id": "58a4d8a9",
    "papermill": {
     "duration": 0.06956,
     "end_time": "2022-01-21T22:23:29.048487",
     "exception": false,
     "start_time": "2022-01-21T22:23:28.978927",
     "status": "completed"
    },
    "tags": []
   },
   "outputs": [],
   "source": [
    "def fit_and_evaluate(model):\n",
    "    # Train the model\n",
    "    model.fit(X_train, y_train)\n",
    "    score = model.score(X_test,y_test)\n",
    "    \n",
    "    # Return the performance metric\n",
    "    return score"
   ]
  },
  {
   "cell_type": "markdown",
   "id": "ea6e4409",
   "metadata": {
    "id": "ea6e4409",
    "papermill": {
     "duration": 0.061461,
     "end_time": "2022-01-21T22:23:29.172966",
     "exception": false,
     "start_time": "2022-01-21T22:23:29.111505",
     "status": "completed"
    },
    "tags": []
   },
   "source": [
    "Checking Logistic Regression Algorithm"
   ]
  },
  {
   "cell_type": "code",
   "execution_count": 36,
   "id": "ab856823",
   "metadata": {
    "colab": {
     "base_uri": "https://localhost:8080/"
    },
    "execution": {
     "iopub.execute_input": "2022-01-21T22:23:29.298622Z",
     "iopub.status.busy": "2022-01-21T22:23:29.297931Z",
     "iopub.status.idle": "2022-01-21T22:23:31.029791Z",
     "shell.execute_reply": "2022-01-21T22:23:31.030492Z",
     "shell.execute_reply.started": "2022-01-21T22:18:16.839766Z"
    },
    "id": "ab856823",
    "outputId": "72aa3553-6e6b-4fdc-ad6f-2c38887f3d6d",
    "papermill": {
     "duration": 1.797529,
     "end_time": "2022-01-21T22:23:31.030725",
     "exception": false,
     "start_time": "2022-01-21T22:23:29.233196",
     "status": "completed"
    },
    "tags": []
   },
   "outputs": [
    {
     "name": "stdout",
     "output_type": "stream",
     "text": [
      "Logistic Regression Performance on the test set: score = 0.8711\n"
     ]
    }
   ],
   "source": [
    "# Logistic Regression\n",
    "from sklearn.linear_model import LogisticRegression\n",
    "logreg = LogisticRegression(solver='liblinear', random_state=0)\n",
    "log_score = fit_and_evaluate(logreg)\n",
    "print('Logistic Regression Performance on the test set: score = %0.4f' % log_score)"
   ]
  },
  {
   "cell_type": "markdown",
   "id": "d2bf2fa1",
   "metadata": {
    "id": "d2bf2fa1",
    "papermill": {
     "duration": 0.061594,
     "end_time": "2022-01-21T22:23:31.154393",
     "exception": false,
     "start_time": "2022-01-21T22:23:31.092799",
     "status": "completed"
    },
    "tags": []
   },
   "source": [
    "Checking Naive Bayes Algorithm"
   ]
  },
  {
   "cell_type": "code",
   "execution_count": 37,
   "id": "eb743944",
   "metadata": {
    "colab": {
     "base_uri": "https://localhost:8080/"
    },
    "execution": {
     "iopub.execute_input": "2022-01-21T22:23:31.280330Z",
     "iopub.status.busy": "2022-01-21T22:23:31.279207Z",
     "iopub.status.idle": "2022-01-21T22:23:31.834119Z",
     "shell.execute_reply": "2022-01-21T22:23:31.833159Z",
     "shell.execute_reply.started": "2022-01-21T22:18:55.251309Z"
    },
    "id": "eb743944",
    "outputId": "7c5959dd-674f-4585-9d1b-c40ddebb0e20",
    "papermill": {
     "duration": 0.619388,
     "end_time": "2022-01-21T22:23:31.834333",
     "exception": false,
     "start_time": "2022-01-21T22:23:31.214945",
     "status": "completed"
    },
    "tags": []
   },
   "outputs": [
    {
     "name": "stdout",
     "output_type": "stream",
     "text": [
      "Naive Bayes Performance on the test set: score = 0.6317\n"
     ]
    }
   ],
   "source": [
    "# Naive Bayes\n",
    "from sklearn.naive_bayes import GaussianNB\n",
    "naive = GaussianNB()\n",
    "naive_score = fit_and_evaluate(naive)\n",
    "print('Naive Bayes Performance on the test set: score = %0.4f' % naive_score)"
   ]
  },
  {
   "cell_type": "markdown",
   "id": "98ea7b0e",
   "metadata": {
    "id": "98ea7b0e",
    "papermill": {
     "duration": 0.062763,
     "end_time": "2022-01-21T22:23:31.959578",
     "exception": false,
     "start_time": "2022-01-21T22:23:31.896815",
     "status": "completed"
    },
    "tags": []
   },
   "source": [
    "Checking Random Forest Algorithm"
   ]
  },
  {
   "cell_type": "code",
   "execution_count": 38,
   "id": "b88aae41",
   "metadata": {
    "colab": {
     "base_uri": "https://localhost:8080/"
    },
    "execution": {
     "iopub.execute_input": "2022-01-21T22:23:32.087298Z",
     "iopub.status.busy": "2022-01-21T22:23:32.086613Z",
     "iopub.status.idle": "2022-01-21T22:23:35.025526Z",
     "shell.execute_reply": "2022-01-21T22:23:35.024890Z",
     "shell.execute_reply.started": "2022-01-21T22:18:58.594890Z"
    },
    "id": "b88aae41",
    "outputId": "664a6dc1-d6e7-4cc3-80c0-e4f919de62ac",
    "papermill": {
     "duration": 3.004777,
     "end_time": "2022-01-21T22:23:35.025748",
     "exception": false,
     "start_time": "2022-01-21T22:23:32.020971",
     "status": "completed"
    },
    "tags": []
   },
   "outputs": [
    {
     "name": "stdout",
     "output_type": "stream",
     "text": [
      "Random Forest Performance on the test set: Score = 0.8673\n"
     ]
    }
   ],
   "source": [
    "# Random Forest Classification\n",
    "from sklearn.ensemble import RandomForestClassifier\n",
    "random = RandomForestClassifier(n_estimators = 10, criterion = 'entropy')\n",
    "random_score = fit_and_evaluate(random)\n",
    "\n",
    "print('Random Forest Performance on the test set: Score = %0.4f' % random_score)"
   ]
  },
  {
   "cell_type": "markdown",
   "id": "3c1db8fc",
   "metadata": {
    "id": "3c1db8fc",
    "papermill": {
     "duration": 0.062936,
     "end_time": "2022-01-21T22:23:35.163712",
     "exception": false,
     "start_time": "2022-01-21T22:23:35.100776",
     "status": "completed"
    },
    "tags": []
   },
   "source": [
    "Since Logistic Regression gives the best accuracy score so we will calculate confusion matrix, sensitivity,specificity and auc_score on the Logistic Regression"
   ]
  },
  {
   "cell_type": "code",
   "execution_count": 55,
   "id": "d3cbc27e",
   "metadata": {
    "colab": {
     "base_uri": "https://localhost:8080/"
    },
    "execution": {
     "iopub.execute_input": "2022-01-21T22:23:35.290062Z",
     "iopub.status.busy": "2022-01-21T22:23:35.289063Z",
     "iopub.status.idle": "2022-01-21T22:23:35.544621Z",
     "shell.execute_reply": "2022-01-21T22:23:35.544049Z",
     "shell.execute_reply.started": "2022-01-21T22:19:08.853048Z"
    },
    "id": "d3cbc27e",
    "outputId": "6dc3a351-1fff-40e4-b3c4-5369d6ef3e70",
    "papermill": {
     "duration": 0.319768,
     "end_time": "2022-01-21T22:23:35.544785",
     "exception": false,
     "start_time": "2022-01-21T22:23:35.225017",
     "status": "completed"
    },
    "tags": []
   },
   "outputs": [
    {
     "name": "stdout",
     "output_type": "stream",
     "text": [
      "[[17466   531]\n",
      " [ 2209  1049]]\n"
     ]
    }
   ],
   "source": [
    "# calculating confusion matrix\n",
    "from sklearn.metrics import confusion_matrix\n",
    "y_head_logreg = logreg.predict(X_test)\n",
    "cm_logreg = confusion_matrix(y_test,y_head_logreg)\n",
    "print(cm_logreg)"
   ]
  },
  {
   "cell_type": "code",
   "execution_count": 40,
   "id": "4f504edf",
   "metadata": {
    "colab": {
     "base_uri": "https://localhost:8080/"
    },
    "execution": {
     "iopub.execute_input": "2022-01-21T22:23:35.671807Z",
     "iopub.status.busy": "2022-01-21T22:23:35.670720Z",
     "iopub.status.idle": "2022-01-21T22:23:35.677968Z",
     "shell.execute_reply": "2022-01-21T22:23:35.678408Z",
     "shell.execute_reply.started": "2022-01-21T22:19:13.794948Z"
    },
    "id": "4f504edf",
    "outputId": "75ec1d3c-498d-4051-8dd4-293551f4cf14",
    "papermill": {
     "duration": 0.07194,
     "end_time": "2022-01-21T22:23:35.678595",
     "exception": false,
     "start_time": "2022-01-21T22:23:35.606655",
     "status": "completed"
    },
    "tags": []
   },
   "outputs": [
    {
     "name": "stdout",
     "output_type": "stream",
     "text": [
      "sensitivity: 0.8877255400254129\n",
      "specificity: 0.6639240506329114\n"
     ]
    }
   ],
   "source": [
    "# calculating sensitivity and specificity\n",
    "sensitivity = (cm_logreg[0,0]/(cm_logreg[0,0] + cm_logreg[1,0]))\n",
    "print(\"sensitivity:\",sensitivity)\n",
    "specificity = (cm_logreg[1,1]/(cm_logreg[1,1]+cm_logreg[0,1]))\n",
    "print(\"specificity:\",specificity)"
   ]
  },
  {
   "cell_type": "code",
   "execution_count": 41,
   "id": "2f94ca8f",
   "metadata": {
    "execution": {
     "iopub.execute_input": "2022-01-21T22:23:35.807416Z",
     "iopub.status.busy": "2022-01-21T22:23:35.806397Z",
     "iopub.status.idle": "2022-01-21T22:23:35.810849Z",
     "shell.execute_reply": "2022-01-21T22:23:35.811333Z",
     "shell.execute_reply.started": "2022-01-21T22:19:17.405676Z"
    },
    "id": "2f94ca8f",
    "papermill": {
     "duration": 0.069597,
     "end_time": "2022-01-21T22:23:35.811534",
     "exception": false,
     "start_time": "2022-01-21T22:23:35.741937",
     "status": "completed"
    },
    "tags": []
   },
   "outputs": [],
   "source": [
    "TP = cm_logreg[0,0]\n",
    "TN = cm_logreg[1,1]\n",
    "FP = cm_logreg[0,1]\n",
    "FN = cm_logreg[1,0]"
   ]
  },
  {
   "cell_type": "code",
   "execution_count": 42,
   "id": "2feccf01",
   "metadata": {
    "colab": {
     "base_uri": "https://localhost:8080/"
    },
    "execution": {
     "iopub.execute_input": "2022-01-21T22:23:35.938697Z",
     "iopub.status.busy": "2022-01-21T22:23:35.937674Z",
     "iopub.status.idle": "2022-01-21T22:23:35.942976Z",
     "shell.execute_reply": "2022-01-21T22:23:35.943915Z",
     "shell.execute_reply.started": "2022-01-21T22:19:20.329792Z"
    },
    "id": "2feccf01",
    "outputId": "c4b131b6-f1e5-4df0-cbcc-e1f4c831ad6b",
    "papermill": {
     "duration": 0.071074,
     "end_time": "2022-01-21T22:23:35.944091",
     "exception": false,
     "start_time": "2022-01-21T22:23:35.873017",
     "status": "completed"
    },
    "tags": []
   },
   "outputs": [
    {
     "name": "stdout",
     "output_type": "stream",
     "text": [
      "Precision : 0.9705\n"
     ]
    }
   ],
   "source": [
    "# print precision score\n",
    "\n",
    "precision = TP / float(TP + FP)\n",
    "\n",
    "\n",
    "print('Precision : {0:0.4f}'.format(precision))\n"
   ]
  },
  {
   "cell_type": "code",
   "execution_count": 43,
   "id": "d5249fe1",
   "metadata": {
    "colab": {
     "base_uri": "https://localhost:8080/"
    },
    "execution": {
     "iopub.execute_input": "2022-01-21T22:23:36.073686Z",
     "iopub.status.busy": "2022-01-21T22:23:36.072995Z",
     "iopub.status.idle": "2022-01-21T22:23:36.077582Z",
     "shell.execute_reply": "2022-01-21T22:23:36.078031Z",
     "shell.execute_reply.started": "2022-01-21T22:19:25.851400Z"
    },
    "id": "d5249fe1",
    "outputId": "7625bf2a-bf2b-4dd4-bc62-4034bf50d951",
    "papermill": {
     "duration": 0.071802,
     "end_time": "2022-01-21T22:23:36.078204",
     "exception": false,
     "start_time": "2022-01-21T22:23:36.006402",
     "status": "completed"
    },
    "tags": []
   },
   "outputs": [
    {
     "name": "stdout",
     "output_type": "stream",
     "text": [
      "Classification error : 0.1289\n"
     ]
    }
   ],
   "source": [
    "classification_error = (FP + FN) / float(TP + TN + FP + FN)\n",
    "\n",
    "print('Classification error : {0:0.4f}'.format(classification_error))"
   ]
  },
  {
   "cell_type": "code",
   "execution_count": 44,
   "id": "2cc9045c",
   "metadata": {
    "colab": {
     "base_uri": "https://localhost:8080/"
    },
    "execution": {
     "iopub.execute_input": "2022-01-21T22:23:36.206090Z",
     "iopub.status.busy": "2022-01-21T22:23:36.205439Z",
     "iopub.status.idle": "2022-01-21T22:23:36.415001Z",
     "shell.execute_reply": "2022-01-21T22:23:36.415962Z",
     "shell.execute_reply.started": "2022-01-21T22:19:29.058822Z"
    },
    "id": "2cc9045c",
    "outputId": "6c6c4313-f6d4-4638-c738-614b549db52a",
    "papermill": {
     "duration": 0.275511,
     "end_time": "2022-01-21T22:23:36.416275",
     "exception": false,
     "start_time": "2022-01-21T22:23:36.140764",
     "status": "completed"
    },
    "tags": []
   },
   "outputs": [
    {
     "name": "stdout",
     "output_type": "stream",
     "text": [
      "0.8389364430256143\n"
     ]
    }
   ],
   "source": [
    "from sklearn.metrics import roc_curve\n",
    "y_pred1 = logreg.predict_proba(X_test)[:,1]\n",
    "fpr, tpr, thresholds = roc_curve(y_test, y_pred1, pos_label = 'Yes')\n",
    "\n",
    "from sklearn.metrics import roc_auc_score\n",
    "\n",
    "ROC_AUC = roc_auc_score(y_test, y_pred1)\n",
    "print(ROC_AUC)"
   ]
  },
  {
   "cell_type": "markdown",
   "id": "d5984818",
   "metadata": {
    "id": "d5984818",
    "papermill": {
     "duration": 0.061942,
     "end_time": "2022-01-21T22:23:36.542177",
     "exception": false,
     "start_time": "2022-01-21T22:23:36.480235",
     "status": "completed"
    },
    "tags": []
   },
   "source": [
    "Permutation importance is the first tool for understanding a machine-learning model, and it involves shuffling individual variables in the validation data (after a model has been fit) and seeing the effect on accuracy."
   ]
  },
  {
   "cell_type": "code",
   "execution_count": 49,
   "id": "eNdgrADlMsqz",
   "metadata": {
    "colab": {
     "base_uri": "https://localhost:8080/"
    },
    "id": "eNdgrADlMsqz",
    "outputId": "d2446059-8b99-4043-e661-c5eb8e65b7ba"
   },
   "outputs": [
    {
     "name": "stdout",
     "output_type": "stream",
     "text": [
      "Collecting eli5\n",
      "  Downloading eli5-0.11.0-py2.py3-none-any.whl (106 kB)\n",
      "\u001b[K     |████████████████████████████████| 106 kB 5.4 MB/s \n",
      "\u001b[?25hRequirement already satisfied: jinja2 in /usr/local/lib/python3.7/dist-packages (from eli5) (2.11.3)\n",
      "Requirement already satisfied: scipy in /usr/local/lib/python3.7/dist-packages (from eli5) (1.4.1)\n",
      "Requirement already satisfied: graphviz in /usr/local/lib/python3.7/dist-packages (from eli5) (0.10.1)\n",
      "Requirement already satisfied: numpy>=1.9.0 in /usr/local/lib/python3.7/dist-packages (from eli5) (1.21.5)\n",
      "Requirement already satisfied: tabulate>=0.7.7 in /usr/local/lib/python3.7/dist-packages (from eli5) (0.8.9)\n",
      "Requirement already satisfied: scikit-learn>=0.20 in /usr/local/lib/python3.7/dist-packages (from eli5) (1.0.2)\n",
      "Requirement already satisfied: attrs>16.0.0 in /usr/local/lib/python3.7/dist-packages (from eli5) (21.4.0)\n",
      "Requirement already satisfied: six in /usr/local/lib/python3.7/dist-packages (from eli5) (1.15.0)\n",
      "Requirement already satisfied: joblib>=0.11 in /usr/local/lib/python3.7/dist-packages (from scikit-learn>=0.20->eli5) (1.1.0)\n",
      "Requirement already satisfied: threadpoolctl>=2.0.0 in /usr/local/lib/python3.7/dist-packages (from scikit-learn>=0.20->eli5) (3.1.0)\n",
      "Requirement already satisfied: MarkupSafe>=0.23 in /usr/local/lib/python3.7/dist-packages (from jinja2->eli5) (2.0.1)\n",
      "Installing collected packages: eli5\n",
      "Successfully installed eli5-0.11.0\n"
     ]
    }
   ],
   "source": [
    "pip install eli5"
   ]
  },
  {
   "cell_type": "code",
   "execution_count": 50,
   "id": "de82a9e1",
   "metadata": {
    "colab": {
     "base_uri": "https://localhost:8080/",
     "height": 391
    },
    "execution": {
     "iopub.execute_input": "2022-01-21T22:23:36.671226Z",
     "iopub.status.busy": "2022-01-21T22:23:36.670526Z",
     "iopub.status.idle": "2022-01-21T22:25:13.075067Z",
     "shell.execute_reply": "2022-01-21T22:25:13.075616Z",
     "shell.execute_reply.started": "2022-01-21T22:19:35.589423Z"
    },
    "id": "de82a9e1",
    "outputId": "79e628e5-807b-4d9c-e73a-01926db09465",
    "papermill": {
     "duration": 96.470519,
     "end_time": "2022-01-21T22:25:13.075797",
     "exception": false,
     "start_time": "2022-01-21T22:23:36.605278",
     "status": "completed"
    },
    "tags": []
   },
   "outputs": [
    {
     "data": {
      "text/html": [
       "\n",
       "    <style>\n",
       "    table.eli5-weights tr:hover {\n",
       "        filter: brightness(85%);\n",
       "    }\n",
       "</style>\n",
       "\n",
       "\n",
       "\n",
       "    \n",
       "\n",
       "    \n",
       "\n",
       "    \n",
       "\n",
       "    \n",
       "\n",
       "    \n",
       "\n",
       "    \n",
       "\n",
       "\n",
       "    \n",
       "\n",
       "    \n",
       "\n",
       "    \n",
       "\n",
       "    \n",
       "\n",
       "    \n",
       "\n",
       "    \n",
       "\n",
       "\n",
       "    \n",
       "\n",
       "    \n",
       "\n",
       "    \n",
       "\n",
       "    \n",
       "\n",
       "    \n",
       "        <table class=\"eli5-weights eli5-feature-importances\" style=\"border-collapse: collapse; border: none; margin-top: 0em; table-layout: auto;\">\n",
       "    <thead>\n",
       "    <tr style=\"border: none;\">\n",
       "        <th style=\"padding: 0 1em 0 0.5em; text-align: right; border: none;\">Weight</th>\n",
       "        <th style=\"padding: 0 0.5em 0 0.5em; text-align: left; border: none;\">Feature</th>\n",
       "    </tr>\n",
       "    </thead>\n",
       "    <tbody>\n",
       "    \n",
       "        <tr style=\"background-color: hsl(120, 100.00%, 80.00%); border: none;\">\n",
       "            <td style=\"padding: 0 1em 0 0.5em; text-align: right; border: none;\">\n",
       "                0.0642\n",
       "                \n",
       "                    &plusmn; 0.0040\n",
       "                \n",
       "            </td>\n",
       "            <td style=\"padding: 0 0.5em 0 0.5em; text-align: left; border: none;\">\n",
       "                Pressure3pm\n",
       "            </td>\n",
       "        </tr>\n",
       "    \n",
       "        <tr style=\"background-color: hsl(120, 100.00%, 85.76%); border: none;\">\n",
       "            <td style=\"padding: 0 1em 0 0.5em; text-align: right; border: none;\">\n",
       "                0.0395\n",
       "                \n",
       "                    &plusmn; 0.0036\n",
       "                \n",
       "            </td>\n",
       "            <td style=\"padding: 0 0.5em 0 0.5em; text-align: left; border: none;\">\n",
       "                Humidity3pm\n",
       "            </td>\n",
       "        </tr>\n",
       "    \n",
       "        <tr style=\"background-color: hsl(120, 100.00%, 88.06%); border: none;\">\n",
       "            <td style=\"padding: 0 1em 0 0.5em; text-align: right; border: none;\">\n",
       "                0.0307\n",
       "                \n",
       "                    &plusmn; 0.0055\n",
       "                \n",
       "            </td>\n",
       "            <td style=\"padding: 0 0.5em 0 0.5em; text-align: left; border: none;\">\n",
       "                Pressure9am\n",
       "            </td>\n",
       "        </tr>\n",
       "    \n",
       "        <tr style=\"background-color: hsl(120, 100.00%, 93.94%); border: none;\">\n",
       "            <td style=\"padding: 0 1em 0 0.5em; text-align: right; border: none;\">\n",
       "                0.0116\n",
       "                \n",
       "                    &plusmn; 0.0018\n",
       "                \n",
       "            </td>\n",
       "            <td style=\"padding: 0 0.5em 0 0.5em; text-align: left; border: none;\">\n",
       "                WindGustSpeed\n",
       "            </td>\n",
       "        </tr>\n",
       "    \n",
       "        <tr style=\"background-color: hsl(120, 100.00%, 98.03%); border: none;\">\n",
       "            <td style=\"padding: 0 1em 0 0.5em; text-align: right; border: none;\">\n",
       "                0.0023\n",
       "                \n",
       "                    &plusmn; 0.0018\n",
       "                \n",
       "            </td>\n",
       "            <td style=\"padding: 0 0.5em 0 0.5em; text-align: left; border: none;\">\n",
       "                WindSpeed3pm\n",
       "            </td>\n",
       "        </tr>\n",
       "    \n",
       "        <tr style=\"background-color: hsl(120, 100.00%, 98.50%); border: none;\">\n",
       "            <td style=\"padding: 0 1em 0 0.5em; text-align: right; border: none;\">\n",
       "                0.0016\n",
       "                \n",
       "                    &plusmn; 0.0014\n",
       "                \n",
       "            </td>\n",
       "            <td style=\"padding: 0 0.5em 0 0.5em; text-align: left; border: none;\">\n",
       "                Sunshine\n",
       "            </td>\n",
       "        </tr>\n",
       "    \n",
       "        <tr style=\"background-color: hsl(120, 100.00%, 98.52%); border: none;\">\n",
       "            <td style=\"padding: 0 1em 0 0.5em; text-align: right; border: none;\">\n",
       "                0.0016\n",
       "                \n",
       "                    &plusmn; 0.0010\n",
       "                \n",
       "            </td>\n",
       "            <td style=\"padding: 0 0.5em 0 0.5em; text-align: left; border: none;\">\n",
       "                MaxTemp\n",
       "            </td>\n",
       "        </tr>\n",
       "    \n",
       "        <tr style=\"background-color: hsl(120, 100.00%, 98.74%); border: none;\">\n",
       "            <td style=\"padding: 0 1em 0 0.5em; text-align: right; border: none;\">\n",
       "                0.0012\n",
       "                \n",
       "                    &plusmn; 0.0004\n",
       "                \n",
       "            </td>\n",
       "            <td style=\"padding: 0 0.5em 0 0.5em; text-align: left; border: none;\">\n",
       "                Wollongong\n",
       "            </td>\n",
       "        </tr>\n",
       "    \n",
       "        <tr style=\"background-color: hsl(120, 100.00%, 98.91%); border: none;\">\n",
       "            <td style=\"padding: 0 1em 0 0.5em; text-align: right; border: none;\">\n",
       "                0.0010\n",
       "                \n",
       "                    &plusmn; 0.0014\n",
       "                \n",
       "            </td>\n",
       "            <td style=\"padding: 0 0.5em 0 0.5em; text-align: left; border: none;\">\n",
       "                Cloud3pm\n",
       "            </td>\n",
       "        </tr>\n",
       "    \n",
       "        <tr style=\"background-color: hsl(120, 100.00%, 99.03%); border: none;\">\n",
       "            <td style=\"padding: 0 1em 0 0.5em; text-align: right; border: none;\">\n",
       "                0.0009\n",
       "                \n",
       "                    &plusmn; 0.0003\n",
       "                \n",
       "            </td>\n",
       "            <td style=\"padding: 0 0.5em 0 0.5em; text-align: left; border: none;\">\n",
       "                month\n",
       "            </td>\n",
       "        </tr>\n",
       "    \n",
       "        <tr style=\"background-color: hsl(120, 100.00%, 99.08%); border: none;\">\n",
       "            <td style=\"padding: 0 1em 0 0.5em; text-align: right; border: none;\">\n",
       "                0.0008\n",
       "                \n",
       "                    &plusmn; 0.0005\n",
       "                \n",
       "            </td>\n",
       "            <td style=\"padding: 0 0.5em 0 0.5em; text-align: left; border: none;\">\n",
       "                N\n",
       "            </td>\n",
       "        </tr>\n",
       "    \n",
       "        <tr style=\"background-color: hsl(120, 100.00%, 99.13%); border: none;\">\n",
       "            <td style=\"padding: 0 1em 0 0.5em; text-align: right; border: none;\">\n",
       "                0.0007\n",
       "                \n",
       "                    &plusmn; 0.0012\n",
       "                \n",
       "            </td>\n",
       "            <td style=\"padding: 0 0.5em 0 0.5em; text-align: left; border: none;\">\n",
       "                MinTemp\n",
       "            </td>\n",
       "        </tr>\n",
       "    \n",
       "        <tr style=\"background-color: hsl(120, 100.00%, 99.13%); border: none;\">\n",
       "            <td style=\"padding: 0 1em 0 0.5em; text-align: right; border: none;\">\n",
       "                0.0007\n",
       "                \n",
       "                    &plusmn; 0.0003\n",
       "                \n",
       "            </td>\n",
       "            <td style=\"padding: 0 0.5em 0 0.5em; text-align: left; border: none;\">\n",
       "                MountGinini\n",
       "            </td>\n",
       "        </tr>\n",
       "    \n",
       "        <tr style=\"background-color: hsl(120, 100.00%, 99.16%); border: none;\">\n",
       "            <td style=\"padding: 0 1em 0 0.5em; text-align: right; border: none;\">\n",
       "                0.0007\n",
       "                \n",
       "                    &plusmn; 0.0007\n",
       "                \n",
       "            </td>\n",
       "            <td style=\"padding: 0 0.5em 0 0.5em; text-align: left; border: none;\">\n",
       "                N\n",
       "            </td>\n",
       "        </tr>\n",
       "    \n",
       "        <tr style=\"background-color: hsl(120, 100.00%, 99.18%); border: none;\">\n",
       "            <td style=\"padding: 0 1em 0 0.5em; text-align: right; border: none;\">\n",
       "                0.0007\n",
       "                \n",
       "                    &plusmn; 0.0006\n",
       "                \n",
       "            </td>\n",
       "            <td style=\"padding: 0 0.5em 0 0.5em; text-align: left; border: none;\">\n",
       "                E\n",
       "            </td>\n",
       "        </tr>\n",
       "    \n",
       "        <tr style=\"background-color: hsl(120, 100.00%, 99.23%); border: none;\">\n",
       "            <td style=\"padding: 0 1em 0 0.5em; text-align: right; border: none;\">\n",
       "                0.0006\n",
       "                \n",
       "                    &plusmn; 0.0004\n",
       "                \n",
       "            </td>\n",
       "            <td style=\"padding: 0 0.5em 0 0.5em; text-align: left; border: none;\">\n",
       "                MelbourneAirport\n",
       "            </td>\n",
       "        </tr>\n",
       "    \n",
       "        <tr style=\"background-color: hsl(120, 100.00%, 99.23%); border: none;\">\n",
       "            <td style=\"padding: 0 1em 0 0.5em; text-align: right; border: none;\">\n",
       "                0.0006\n",
       "                \n",
       "                    &plusmn; 0.0003\n",
       "                \n",
       "            </td>\n",
       "            <td style=\"padding: 0 0.5em 0 0.5em; text-align: left; border: none;\">\n",
       "                Hobart\n",
       "            </td>\n",
       "        </tr>\n",
       "    \n",
       "        <tr style=\"background-color: hsl(120, 100.00%, 99.24%); border: none;\">\n",
       "            <td style=\"padding: 0 1em 0 0.5em; text-align: right; border: none;\">\n",
       "                0.0006\n",
       "                \n",
       "                    &plusmn; 0.0005\n",
       "                \n",
       "            </td>\n",
       "            <td style=\"padding: 0 0.5em 0 0.5em; text-align: left; border: none;\">\n",
       "                WindSpeed9am\n",
       "            </td>\n",
       "        </tr>\n",
       "    \n",
       "        <tr style=\"background-color: hsl(120, 100.00%, 99.28%); border: none;\">\n",
       "            <td style=\"padding: 0 1em 0 0.5em; text-align: right; border: none;\">\n",
       "                0.0006\n",
       "                \n",
       "                    &plusmn; 0.0007\n",
       "                \n",
       "            </td>\n",
       "            <td style=\"padding: 0 0.5em 0 0.5em; text-align: left; border: none;\">\n",
       "                SE\n",
       "            </td>\n",
       "        </tr>\n",
       "    \n",
       "        <tr style=\"background-color: hsl(120, 100.00%, 99.28%); border: none;\">\n",
       "            <td style=\"padding: 0 1em 0 0.5em; text-align: right; border: none;\">\n",
       "                0.0006\n",
       "                \n",
       "                    &plusmn; 0.0012\n",
       "                \n",
       "            </td>\n",
       "            <td style=\"padding: 0 0.5em 0 0.5em; text-align: left; border: none;\">\n",
       "                Temp3pm\n",
       "            </td>\n",
       "        </tr>\n",
       "    \n",
       "    \n",
       "        \n",
       "            <tr style=\"background-color: hsl(120, 100.00%, 99.28%); border: none;\">\n",
       "                <td colspan=\"2\" style=\"padding: 0 0.5em 0 0.5em; text-align: center; border: none; white-space: nowrap;\">\n",
       "                    <i>&hellip; 97 more &hellip;</i>\n",
       "                </td>\n",
       "            </tr>\n",
       "        \n",
       "    \n",
       "    </tbody>\n",
       "</table>\n",
       "    \n",
       "\n",
       "    \n",
       "\n",
       "\n",
       "    \n",
       "\n",
       "    \n",
       "\n",
       "    \n",
       "\n",
       "    \n",
       "\n",
       "    \n",
       "\n",
       "    \n",
       "\n",
       "\n",
       "\n"
      ],
      "text/plain": [
       "<IPython.core.display.HTML object>"
      ]
     },
     "execution_count": 50,
     "metadata": {},
     "output_type": "execute_result"
    }
   ],
   "source": [
    "# weightage to the column in Logistic Regression Algorithm\n",
    "import eli5 #for permutation importance\n",
    "from eli5.sklearn import PermutationImportance\n",
    "l2=[]\n",
    "l1 = X_train.columns.tolist()\n",
    "for i in range(len(l1)):\n",
    "    l2.append(l1[i][0])\n",
    "    \n",
    "perm = PermutationImportance(logreg, random_state=1).fit(X_test, y_test)\n",
    "eli5.show_weights(perm, feature_names = l2)"
   ]
  }
 ],
 "metadata": {
  "colab": {
   "name": "rain-in-australia-prediction-via-lrc-nbc-rfc.ipynb",
   "provenance": []
  },
  "kernelspec": {
   "display_name": "Python 3",
   "language": "python",
   "name": "python3"
  },
  "language_info": {
   "codemirror_mode": {
    "name": "ipython",
    "version": 3
   },
   "file_extension": ".py",
   "mimetype": "text/x-python",
   "name": "python",
   "nbconvert_exporter": "python",
   "pygments_lexer": "ipython3",
   "version": "3.6.9"
  },
  "papermill": {
   "default_parameters": {},
   "duration": 132.904965,
   "end_time": "2022-01-21T22:25:16.019678",
   "environment_variables": {},
   "exception": null,
   "input_path": "__notebook__.ipynb",
   "output_path": "__notebook__.ipynb",
   "parameters": {},
   "start_time": "2022-01-21T22:23:03.114713",
   "version": "2.3.3"
  }
 },
 "nbformat": 4,
 "nbformat_minor": 5
}
